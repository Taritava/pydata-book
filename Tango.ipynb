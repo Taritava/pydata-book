{
 "cells": [
  {
   "cell_type": "code",
   "execution_count": 9,
   "id": "6938ed24",
   "metadata": {},
   "outputs": [],
   "source": [
    "import pandas as pd\n",
    "import numpy as np\n",
    "import seaborn as sns\n",
    "import matplotlib.pyplot as plt\n",
    "import plotly.express as px "
   ]
  },
  {
   "cell_type": "code",
   "execution_count": 2,
   "id": "62bec4b4",
   "metadata": {},
   "outputs": [
    {
     "data": {
      "text/html": [
       "<div>\n",
       "<style scoped>\n",
       "    .dataframe tbody tr th:only-of-type {\n",
       "        vertical-align: middle;\n",
       "    }\n",
       "\n",
       "    .dataframe tbody tr th {\n",
       "        vertical-align: top;\n",
       "    }\n",
       "\n",
       "    .dataframe thead th {\n",
       "        text-align: right;\n",
       "    }\n",
       "</style>\n",
       "<table border=\"1\" class=\"dataframe\">\n",
       "  <thead>\n",
       "    <tr style=\"text-align: right;\">\n",
       "      <th></th>\n",
       "      <th>Store</th>\n",
       "      <th>Store Name</th>\n",
       "      <th>Address</th>\n",
       "      <th>City</th>\n",
       "      <th>State</th>\n",
       "      <th>Division</th>\n",
       "      <th>Market Area</th>\n",
       "      <th>Banner</th>\n",
       "      <th>Format</th>\n",
       "      <th>Store Sqft</th>\n",
       "      <th>...</th>\n",
       "      <th>Predicted Sales</th>\n",
       "      <th>TTM Weekly Gallons</th>\n",
       "      <th>Predicted Gallons</th>\n",
       "      <th>C-Store Difference</th>\n",
       "      <th>Fuel Difference</th>\n",
       "      <th>sales diff</th>\n",
       "      <th>Fuel diff</th>\n",
       "      <th>size class</th>\n",
       "      <th>sale class</th>\n",
       "      <th>Fuel class</th>\n",
       "    </tr>\n",
       "  </thead>\n",
       "  <tbody>\n",
       "    <tr>\n",
       "      <th>0</th>\n",
       "      <td>3003</td>\n",
       "      <td>3003:SOUTHSIDE WORKS GETGO</td>\n",
       "      <td>3247 East Carson Street</td>\n",
       "      <td>Pittsburgh</td>\n",
       "      <td>PA</td>\n",
       "      <td>POD</td>\n",
       "      <td>Pitt-City</td>\n",
       "      <td>GetGo</td>\n",
       "      <td>Cafe and Market</td>\n",
       "      <td>5580</td>\n",
       "      <td>...</td>\n",
       "      <td>108259</td>\n",
       "      <td>61427.0</td>\n",
       "      <td>62773.0</td>\n",
       "      <td>0.134295</td>\n",
       "      <td>-0.021912</td>\n",
       "      <td>-16794</td>\n",
       "      <td>1346.0</td>\n",
       "      <td>Big</td>\n",
       "      <td>Outlier</td>\n",
       "      <td>Low</td>\n",
       "    </tr>\n",
       "    <tr>\n",
       "      <th>1</th>\n",
       "      <td>3005</td>\n",
       "      <td>3005:ELIZABETH GETGO</td>\n",
       "      <td>998 Hayden Blvd</td>\n",
       "      <td>Elizabeth</td>\n",
       "      <td>PA</td>\n",
       "      <td>POD</td>\n",
       "      <td>Pitt-South</td>\n",
       "      <td>GetGo</td>\n",
       "      <td>Sub Shop</td>\n",
       "      <td>5748</td>\n",
       "      <td>...</td>\n",
       "      <td>76875</td>\n",
       "      <td>NaN</td>\n",
       "      <td>NaN</td>\n",
       "      <td>0.213925</td>\n",
       "      <td>NaN</td>\n",
       "      <td>-20921</td>\n",
       "      <td>NaN</td>\n",
       "      <td>Big</td>\n",
       "      <td>Outlier</td>\n",
       "      <td>NaN</td>\n",
       "    </tr>\n",
       "    <tr>\n",
       "      <th>2</th>\n",
       "      <td>3008</td>\n",
       "      <td>3008:NEW KENSINGTON</td>\n",
       "      <td>250 Tarentum Bridge Road</td>\n",
       "      <td>New Kensington</td>\n",
       "      <td>PA</td>\n",
       "      <td>POD</td>\n",
       "      <td>Pitt-East</td>\n",
       "      <td>GetGo</td>\n",
       "      <td>Conventional</td>\n",
       "      <td>744</td>\n",
       "      <td>...</td>\n",
       "      <td>16943</td>\n",
       "      <td>48068.0</td>\n",
       "      <td>38366.0</td>\n",
       "      <td>0.107981</td>\n",
       "      <td>0.201839</td>\n",
       "      <td>-2051</td>\n",
       "      <td>-9702.0</td>\n",
       "      <td>Small</td>\n",
       "      <td>Low</td>\n",
       "      <td>Medium</td>\n",
       "    </tr>\n",
       "    <tr>\n",
       "      <th>3</th>\n",
       "      <td>3010</td>\n",
       "      <td>3010:IRWIN</td>\n",
       "      <td>8813 Route 30</td>\n",
       "      <td>North Huntingdon</td>\n",
       "      <td>PA</td>\n",
       "      <td>POD</td>\n",
       "      <td>Pitt-East</td>\n",
       "      <td>GetGo</td>\n",
       "      <td>Grab-n-Go</td>\n",
       "      <td>1895</td>\n",
       "      <td>...</td>\n",
       "      <td>23863</td>\n",
       "      <td>58672.0</td>\n",
       "      <td>68199.0</td>\n",
       "      <td>0.058064</td>\n",
       "      <td>-0.162377</td>\n",
       "      <td>-1471</td>\n",
       "      <td>9527.0</td>\n",
       "      <td>Small</td>\n",
       "      <td>Low</td>\n",
       "      <td>Medium</td>\n",
       "    </tr>\n",
       "    <tr>\n",
       "      <th>4</th>\n",
       "      <td>3013</td>\n",
       "      <td>3013:MCKEESPORT 5TH AVENUE</td>\n",
       "      <td>2414 5th Avenue</td>\n",
       "      <td>McKeesport</td>\n",
       "      <td>PA</td>\n",
       "      <td>POD</td>\n",
       "      <td>Pitt-East</td>\n",
       "      <td>GetGo</td>\n",
       "      <td>Cafe and Market</td>\n",
       "      <td>5520</td>\n",
       "      <td>...</td>\n",
       "      <td>82029</td>\n",
       "      <td>82290.0</td>\n",
       "      <td>39330.0</td>\n",
       "      <td>-0.034949</td>\n",
       "      <td>0.522056</td>\n",
       "      <td>2770</td>\n",
       "      <td>-42960.0</td>\n",
       "      <td>Big</td>\n",
       "      <td>Low</td>\n",
       "      <td>Outlier</td>\n",
       "    </tr>\n",
       "  </tbody>\n",
       "</table>\n",
       "<p>5 rows × 22 columns</p>\n",
       "</div>"
      ],
      "text/plain": [
       "   Store                  Store Name                   Address  \\\n",
       "0   3003  3003:SOUTHSIDE WORKS GETGO   3247 East Carson Street   \n",
       "1   3005        3005:ELIZABETH GETGO           998 Hayden Blvd   \n",
       "2   3008         3008:NEW KENSINGTON  250 Tarentum Bridge Road   \n",
       "3   3010                  3010:IRWIN             8813 Route 30   \n",
       "4   3013  3013:MCKEESPORT 5TH AVENUE           2414 5th Avenue   \n",
       "\n",
       "               City State Division Market Area Banner           Format  \\\n",
       "0        Pittsburgh    PA      POD   Pitt-City  GetGo  Cafe and Market   \n",
       "1         Elizabeth    PA      POD  Pitt-South  GetGo         Sub Shop   \n",
       "2    New Kensington    PA      POD   Pitt-East  GetGo     Conventional   \n",
       "3  North Huntingdon    PA      POD   Pitt-East  GetGo        Grab-n-Go   \n",
       "4        McKeesport    PA      POD   Pitt-East  GetGo  Cafe and Market   \n",
       "\n",
       "   Store Sqft  ...  Predicted Sales  TTM Weekly Gallons  Predicted Gallons  \\\n",
       "0        5580  ...           108259             61427.0            62773.0   \n",
       "1        5748  ...            76875                 NaN                NaN   \n",
       "2         744  ...            16943             48068.0            38366.0   \n",
       "3        1895  ...            23863             58672.0            68199.0   \n",
       "4        5520  ...            82029             82290.0            39330.0   \n",
       "\n",
       "   C-Store Difference  Fuel Difference  sales diff  Fuel diff  size class  \\\n",
       "0            0.134295        -0.021912      -16794     1346.0         Big   \n",
       "1            0.213925              NaN      -20921        NaN         Big   \n",
       "2            0.107981         0.201839       -2051    -9702.0       Small   \n",
       "3            0.058064        -0.162377       -1471     9527.0       Small   \n",
       "4           -0.034949         0.522056        2770   -42960.0         Big   \n",
       "\n",
       "   sale class Fuel class  \n",
       "0     Outlier        Low  \n",
       "1     Outlier        NaN  \n",
       "2         Low     Medium  \n",
       "3         Low     Medium  \n",
       "4         Low    Outlier  \n",
       "\n",
       "[5 rows x 22 columns]"
      ]
     },
     "execution_count": 2,
     "metadata": {},
     "output_type": "execute_result"
    }
   ],
   "source": [
    "tango=pd.read_excel(r\"C:\\Taritava\\Office\\Outgoing\\Document\\Outside\\Tango sales forcast\\Tango forcast.xlsx\")\n",
    "tango.head()"
   ]
  },
  {
   "cell_type": "code",
   "execution_count": 5,
   "id": "a0098938",
   "metadata": {},
   "outputs": [
    {
     "data": {
      "text/plain": [
       "<AxesSubplot:ylabel='Frequency'>"
      ]
     },
     "execution_count": 5,
     "metadata": {},
     "output_type": "execute_result"
    },
    {
     "data": {
      "image/png": "[encoded data removed]",
      "text/plain": [
       "<Figure size 640x480 with 1 Axes>"
      ]
     },
     "metadata": {},
     "output_type": "display_data"
    }
   ],
   "source": [
    "tango['Store Sqft'].plot.hist()"
   ]
  },
  {
   "cell_type": "code",
   "execution_count": 7,
   "id": "0140fea5",
   "metadata": {},
   "outputs": [
    {
     "data": {
      "text/plain": [
       "count     230.000000\n",
       "mean     3526.247826\n",
       "std      1788.961040\n",
       "min       461.000000\n",
       "25%      1903.750000\n",
       "50%      3700.000000\n",
       "75%      5000.000000\n",
       "max      6254.000000\n",
       "Name: Store Sqft, dtype: float64"
      ]
     },
     "execution_count": 7,
     "metadata": {},
     "output_type": "execute_result"
    }
   ],
   "source": [
    "tango['Store Sqft'].describe()"
   ]
  },
  {
   "cell_type": "code",
   "execution_count": 4,
   "id": "4d272ed4",
   "metadata": {
    "scrolled": true
   },
   "outputs": [
    {
     "data": {
      "text/plain": [
       "Index(['Store', 'Store Name', 'Address', 'City', 'State', 'Division',\n",
       "       'Market Area', 'Banner', 'Format', 'Store Sqft', 'Num MPD',\n",
       "       'TTM Weekly Sales', 'Predicted Sales', 'TTM Weekly Gallons',\n",
       "       'Predicted Gallons', 'C-Store Difference', 'Fuel Difference',\n",
       "       'sales diff', 'Fuel diff', 'sale class', 'Fuel class'],\n",
       "      dtype='object')"
      ]
     },
     "execution_count": 4,
     "metadata": {},
     "output_type": "execute_result"
    }
   ],
   "source": [
    "tango.columns"
   ]
  },
  {
   "cell_type": "code",
   "execution_count": 18,
   "id": "e8333252",
   "metadata": {},
   "outputs": [
    {
     "data": {
      "application/vnd.plotly.v1+json": {
       "config": {
        "plotlyServerURL": "https://plot.ly"
       },
       "data": [
        {
         "hovertemplate": "Format=Cafe and Market<br>State=PA<br>sales diff=%{x}<br>Store Sqft=%{y}<extra></extra>",
         "legendgroup": "Cafe and Market, PA",
         "marker": {
          "color": "#636efa",
          "symbol": "circle"
         },
         "mode": "markers",
         "name": "Cafe and Market, PA",
         "orientation": "v",
         "showlegend": true,
         "type": "scatter",
         "x": [
          -16794,
          2770,
          6971,
          -11606,
          13677,
          9453,
          16600,
          -7666,
          -24403,
          3088,
          -2155,
          -10604,
          -6363,
          -18724,
          -3434,
          -10003,
          4767,
          -10582
         ],
         "xaxis": "x",
         "y": [
          5580,
          5520,
          6127,
          6127,
          5520,
          6127,
          6127,
          6127,
          6127,
          6127,
          4880,
          6127,
          6127,
          6127,
          5360,
          6254,
          6127,
          5460
         ],
         "yaxis": "y"
        },
        {
         "hovertemplate": "Format=Cafe and Market<br>State=OH<br>sales diff=%{x}<br>Store Sqft=%{y}<extra></extra>",
         "legendgroup": "Cafe and Market, OH",
         "marker": {
          "color": "#636efa",
          "symbol": "diamond"
         },
         "mode": "markers",
         "name": "Cafe and Market, OH",
         "orientation": "v",
         "showlegend": true,
         "type": "scatter",
         "x": [
          1843,
          -973,
          -13373,
          -11453,
          -1060,
          -2158,
          3867,
          16032,
          -2191,
          -1425,
          9048,
          14031,
          -16187
         ],
         "xaxis": "x",
         "y": [
          6127,
          5360,
          5550,
          6127,
          5360,
          6254,
          6127,
          6254,
          6254,
          6254,
          6254,
          5360,
          6127
         ],
         "yaxis": "y"
        },
        {
         "hovertemplate": "Format=Cafe and Market<br>State=IN<br>sales diff=%{x}<br>Store Sqft=%{y}<extra></extra>",
         "legendgroup": "Cafe and Market, IN",
         "marker": {
          "color": "#636efa",
          "symbol": "x"
         },
         "mode": "markers",
         "name": "Cafe and Market, IN",
         "orientation": "v",
         "showlegend": true,
         "type": "scatter",
         "x": [
          -1651,
          6213,
          -2555,
          -4761,
          5156,
          4237,
          1010,
          -2271,
          2963,
          2995,
          -11866,
          20,
          -6649,
          -2148,
          2550,
          741,
          -1191,
          -319,
          -791,
          -6023,
          -18322,
          -1276,
          -3434,
          -3053,
          1077,
          7206,
          18204,
          -5240,
          2086,
          260,
          -1967,
          383,
          7891,
          3775,
          3512,
          5472,
          -9636,
          -114,
          845,
          -1880
         ],
         "xaxis": "x",
         "y": [
          6127,
          6254,
          6254,
          6254,
          6254,
          6254,
          4128,
          3200,
          2800,
          3200,
          4050,
          4500,
          4500,
          4500,
          3431,
          3970,
          4500,
          5000,
          4320,
          4559,
          4224,
          4224,
          4224,
          4232,
          4224,
          4195,
          5000,
          4100,
          4400,
          4200,
          5000,
          4500,
          4224,
          4324,
          4276,
          4224,
          4354,
          4224,
          4200,
          4180
         ],
         "yaxis": "y"
        },
        {
         "hovertemplate": "Format=Sub Shop<br>State=PA<br>sales diff=%{x}<br>Store Sqft=%{y}<extra></extra>",
         "legendgroup": "Sub Shop, PA",
         "marker": {
          "color": "#EF553B",
          "symbol": "circle"
         },
         "mode": "markers",
         "name": "Sub Shop, PA",
         "orientation": "v",
         "showlegend": true,
         "type": "scatter",
         "x": [
          -20921,
          -16752,
          -7703,
          -1317,
          -1221,
          -760,
          -318,
          -8358,
          1444,
          -4844,
          8621,
          36721,
          -24012,
          10654,
          14307,
          14095,
          -12512,
          5095,
          6309,
          -9730,
          -9248,
          3000,
          2905,
          -4700,
          6153,
          -2638,
          1250,
          350,
          2762,
          -13203,
          11386,
          -2185,
          1346,
          -13273,
          -36333
         ],
         "xaxis": "x",
         "y": [
          5748,
          5580,
          2846,
          3944,
          3648,
          5748,
          2636,
          5375,
          3172,
          4525,
          4945,
          4714,
          2080,
          4525,
          4525,
          2520,
          4525,
          4535,
          4525,
          5580,
          5376,
          4630,
          4525,
          5849,
          5580,
          4580,
          3746,
          3122,
          4576,
          4525,
          5375,
          5748,
          3831,
          4688,
          5748
         ],
         "yaxis": "y"
        },
        {
         "hovertemplate": "Format=Sub Shop<br>State=OH<br>sales diff=%{x}<br>Store Sqft=%{y}<extra></extra>",
         "legendgroup": "Sub Shop, OH",
         "marker": {
          "color": "#EF553B",
          "symbol": "diamond"
         },
         "mode": "markers",
         "name": "Sub Shop, OH",
         "orientation": "v",
         "showlegend": true,
         "type": "scatter",
         "x": [
          335,
          -3973,
          11638,
          -1131,
          2291,
          -3277,
          -252,
          6324,
          -2441,
          17889,
          -2590,
          -4571,
          -3548,
          -9173,
          -7455,
          809,
          10060,
          -1223,
          5377,
          -526
         ],
         "xaxis": "x",
         "y": [
          5580,
          5580,
          5580,
          4525,
          4525,
          4365,
          4484,
          3225,
          4535,
          5580,
          5580,
          3629,
          4525,
          2800,
          5580,
          3700,
          5557,
          3746,
          5748,
          5849
         ],
         "yaxis": "y"
        },
        {
         "hovertemplate": "Format=Sub Shop<br>State=WV<br>sales diff=%{x}<br>Store Sqft=%{y}<extra></extra>",
         "legendgroup": "Sub Shop, WV",
         "marker": {
          "color": "#EF553B",
          "symbol": "square"
         },
         "mode": "markers",
         "name": "Sub Shop, WV",
         "orientation": "v",
         "showlegend": true,
         "type": "scatter",
         "x": [
          -1019
         ],
         "xaxis": "x",
         "y": [
          3700
         ],
         "yaxis": "y"
        },
        {
         "hovertemplate": "Format=Sub Shop<br>State=MD<br>sales diff=%{x}<br>Store Sqft=%{y}<extra></extra>",
         "legendgroup": "Sub Shop, MD",
         "marker": {
          "color": "#EF553B",
          "symbol": "cross"
         },
         "mode": "markers",
         "name": "Sub Shop, MD",
         "orientation": "v",
         "showlegend": true,
         "type": "scatter",
         "x": [
          3702
         ],
         "xaxis": "x",
         "y": [
          2856
         ],
         "yaxis": "y"
        },
        {
         "hovertemplate": "Format=Conventional<br>State=PA<br>sales diff=%{x}<br>Store Sqft=%{y}<extra></extra>",
         "legendgroup": "Conventional, PA",
         "marker": {
          "color": "#00cc96",
          "symbol": "circle"
         },
         "mode": "markers",
         "name": "Conventional, PA",
         "orientation": "v",
         "showlegend": true,
         "type": "scatter",
         "x": [
          -2051,
          7897,
          4248,
          115,
          337,
          -1703,
          11519,
          4802,
          2447,
          4982,
          4682,
          -3957,
          -553,
          -908,
          568,
          -2315,
          -722,
          1889
         ],
         "xaxis": "x",
         "y": [
          744,
          543,
          1960,
          744,
          744,
          786,
          1674,
          744,
          1560,
          1237,
          649,
          1721,
          1895,
          1111,
          1111,
          675,
          1111,
          1895
         ],
         "yaxis": "y"
        },
        {
         "hovertemplate": "Format=Conventional<br>State=OH<br>sales diff=%{x}<br>Store Sqft=%{y}<extra></extra>",
         "legendgroup": "Conventional, OH",
         "marker": {
          "color": "#00cc96",
          "symbol": "diamond"
         },
         "mode": "markers",
         "name": "Conventional, OH",
         "orientation": "v",
         "showlegend": true,
         "type": "scatter",
         "x": [
          -5455,
          1725,
          13659,
          -427,
          -2907,
          618,
          10230,
          3729,
          -316,
          -3999,
          -84,
          -3705,
          812,
          2177,
          1210,
          2067,
          19071,
          4253,
          1386,
          -3358,
          5852,
          649,
          -5436,
          632,
          347,
          -2138,
          -806
         ],
         "xaxis": "x",
         "y": [
          1260,
          1836,
          2379,
          744,
          1111,
          786,
          744,
          1111,
          794,
          1102,
          1836,
          2191,
          744,
          2360,
          589,
          1895,
          461,
          717,
          1620,
          1111,
          1111,
          1973,
          1111,
          1111,
          649,
          1111,
          1111
         ],
         "yaxis": "y"
        },
        {
         "hovertemplate": "Format=Conventional<br>State=IN<br>sales diff=%{x}<br>Store Sqft=%{y}<extra></extra>",
         "legendgroup": "Conventional, IN",
         "marker": {
          "color": "#00cc96",
          "symbol": "x"
         },
         "mode": "markers",
         "name": "Conventional, IN",
         "orientation": "v",
         "showlegend": true,
         "type": "scatter",
         "x": [
          -1401,
          17185,
          427,
          702,
          5422,
          -2500,
          -4546,
          1340,
          -545,
          -1662,
          2196,
          -1801,
          14804,
          -2600,
          -4805,
          -1740,
          -697,
          -5818,
          -733,
          5155,
          -1340,
          -4606
         ],
         "xaxis": "x",
         "y": [
          1800,
          3116,
          2374,
          1804,
          2500,
          2000,
          3600,
          3500,
          2416,
          2350,
          3500,
          3000,
          3182,
          4410,
          3025,
          3974,
          4312,
          3600,
          2310,
          2800,
          2332,
          2500
         ],
         "yaxis": "y"
        },
        {
         "hovertemplate": "Format=Conventional<br>State=MD<br>sales diff=%{x}<br>Store Sqft=%{y}<extra></extra>",
         "legendgroup": "Conventional, MD",
         "marker": {
          "color": "#00cc96",
          "symbol": "cross"
         },
         "mode": "markers",
         "name": "Conventional, MD",
         "orientation": "v",
         "showlegend": true,
         "type": "scatter",
         "x": [
          -5723
         ],
         "xaxis": "x",
         "y": [
          1615
         ],
         "yaxis": "y"
        },
        {
         "hovertemplate": "Format=Grab-n-Go<br>State=PA<br>sales diff=%{x}<br>Store Sqft=%{y}<extra></extra>",
         "legendgroup": "Grab-n-Go, PA",
         "marker": {
          "color": "#ab63fa",
          "symbol": "circle"
         },
         "mode": "markers",
         "name": "Grab-n-Go, PA",
         "orientation": "v",
         "showlegend": true,
         "type": "scatter",
         "x": [
          -1471,
          2891,
          -3739,
          2967,
          -1783,
          16651,
          297,
          1950,
          499,
          -5770,
          2410,
          981,
          3705,
          4553
         ],
         "xaxis": "x",
         "y": [
          1895,
          3170,
          744,
          1836,
          1895,
          2386,
          1111,
          1937,
          1836,
          2266,
          2081,
          3273,
          1111,
          2528
         ],
         "yaxis": "y"
        },
        {
         "hovertemplate": "Format=Grab-n-Go<br>State=OH<br>sales diff=%{x}<br>Store Sqft=%{y}<extra></extra>",
         "legendgroup": "Grab-n-Go, OH",
         "marker": {
          "color": "#ab63fa",
          "symbol": "diamond"
         },
         "mode": "markers",
         "name": "Grab-n-Go, OH",
         "orientation": "v",
         "showlegend": true,
         "type": "scatter",
         "x": [
          -505,
          -910,
          1013,
          -3407,
          -8017,
          1052,
          -2674,
          7898,
          1413,
          -5768,
          -682,
          -6866,
          -752,
          -29086,
          7680,
          -3640,
          -7917,
          -1563,
          -349,
          2201
         ],
         "xaxis": "x",
         "y": [
          1895,
          1111,
          1813,
          2000,
          1942,
          3343,
          1895,
          1960,
          2526,
          2120,
          2052,
          1836,
          1651,
          2000,
          1102,
          1930,
          1895,
          1942,
          2289,
          2367
         ],
         "yaxis": "y"
        }
       ],
       "layout": {
        "legend": {
         "title": {
          "text": "Format, State"
         },
         "tracegroupgap": 0
        },
        "template": {
         "data": {
          "bar": [
           {
            "error_x": {
             "color": "#2a3f5f"
            },
            "error_y": {
             "color": "#2a3f5f"
            },
            "marker": {
             "line": {
              "color": "#E5ECF6",
              "width": 0.5
             },
             "pattern": {
              "fillmode": "overlay",
              "size": 10,
              "solidity": 0.2
             }
            },
            "type": "bar"
           }
          ],
          "barpolar": [
           {
            "marker": {
             "line": {
              "color": "#E5ECF6",
              "width": 0.5
             },
             "pattern": {
              "fillmode": "overlay",
              "size": 10,
              "solidity": 0.2
             }
            },
            "type": "barpolar"
           }
          ],
          "carpet": [
           {
            "aaxis": {
             "endlinecolor": "#2a3f5f",
             "gridcolor": "white",
             "linecolor": "white",
             "minorgridcolor": "white",
             "startlinecolor": "#2a3f5f"
            },
            "baxis": {
             "endlinecolor": "#2a3f5f",
             "gridcolor": "white",
             "linecolor": "white",
             "minorgridcolor": "white",
             "startlinecolor": "#2a3f5f"
            },
            "type": "carpet"
           }
          ],
          "choropleth": [
           {
            "colorbar": {
             "outlinewidth": 0,
             "ticks": ""
            },
            "type": "choropleth"
           }
          ],
          "contour": [
           {
            "colorbar": {
             "outlinewidth": 0,
             "ticks": ""
            },
            "colorscale": [
             [
              0,
              "#0d0887"
             ],
             [
              0.1111111111111111,
              "#46039f"
             ],
             [
              0.2222222222222222,
              "#7201a8"
             ],
             [
              0.3333333333333333,
              "#9c179e"
             ],
             [
              0.4444444444444444,
              "#bd3786"
             ],
             [
              0.5555555555555556,
              "#d8576b"
             ],
             [
              0.6666666666666666,
              "#ed7953"
             ],
             [
              0.7777777777777778,
              "#fb9f3a"
             ],
             [
              0.8888888888888888,
              "#fdca26"
             ],
             [
              1,
              "#f0f921"
             ]
            ],
            "type": "contour"
           }
          ],
          "contourcarpet": [
           {
            "colorbar": {
             "outlinewidth": 0,
             "ticks": ""
            },
            "type": "contourcarpet"
           }
          ],
          "heatmap": [
           {
            "colorbar": {
             "outlinewidth": 0,
             "ticks": ""
            },
            "colorscale": [
             [
              0,
              "#0d0887"
             ],
             [
              0.1111111111111111,
              "#46039f"
             ],
             [
              0.2222222222222222,
              "#7201a8"
             ],
             [
              0.3333333333333333,
              "#9c179e"
             ],
             [
              0.4444444444444444,
              "#bd3786"
             ],
             [
              0.5555555555555556,
              "#d8576b"
             ],
             [
              0.6666666666666666,
              "#ed7953"
             ],
             [
              0.7777777777777778,
              "#fb9f3a"
             ],
             [
              0.8888888888888888,
              "#fdca26"
             ],
             [
              1,
              "#f0f921"
             ]
            ],
            "type": "heatmap"
           }
          ],
          "heatmapgl": [
           {
            "colorbar": {
             "outlinewidth": 0,
             "ticks": ""
            },
            "colorscale": [
             [
              0,
              "#0d0887"
             ],
             [
              0.1111111111111111,
              "#46039f"
             ],
             [
              0.2222222222222222,
              "#7201a8"
             ],
             [
              0.3333333333333333,
              "#9c179e"
             ],
             [
              0.4444444444444444,
              "#bd3786"
             ],
             [
              0.5555555555555556,
              "#d8576b"
             ],
             [
              0.6666666666666666,
              "#ed7953"
             ],
             [
              0.7777777777777778,
              "#fb9f3a"
             ],
             [
              0.8888888888888888,
              "#fdca26"
             ],
             [
              1,
              "#f0f921"
             ]
            ],
            "type": "heatmapgl"
           }
          ],
          "histogram": [
           {
            "marker": {
             "pattern": {
              "fillmode": "overlay",
              "size": 10,
              "solidity": 0.2
             }
            },
            "type": "histogram"
           }
          ],
          "histogram2d": [
           {
            "colorbar": {
             "outlinewidth": 0,
             "ticks": ""
            },
            "colorscale": [
             [
              0,
              "#0d0887"
             ],
             [
              0.1111111111111111,
              "#46039f"
             ],
             [
              0.2222222222222222,
              "#7201a8"
             ],
             [
              0.3333333333333333,
              "#9c179e"
             ],
             [
              0.4444444444444444,
              "#bd3786"
             ],
             [
              0.5555555555555556,
              "#d8576b"
             ],
             [
              0.6666666666666666,
              "#ed7953"
             ],
             [
              0.7777777777777778,
              "#fb9f3a"
             ],
             [
              0.8888888888888888,
              "#fdca26"
             ],
             [
              1,
              "#f0f921"
             ]
            ],
            "type": "histogram2d"
           }
          ],
          "histogram2dcontour": [
           {
            "colorbar": {
             "outlinewidth": 0,
             "ticks": ""
            },
            "colorscale": [
             [
              0,
              "#0d0887"
             ],
             [
              0.1111111111111111,
              "#46039f"
             ],
             [
              0.2222222222222222,
              "#7201a8"
             ],
             [
              0.3333333333333333,
              "#9c179e"
             ],
             [
              0.4444444444444444,
              "#bd3786"
             ],
             [
              0.5555555555555556,
              "#d8576b"
             ],
             [
              0.6666666666666666,
              "#ed7953"
             ],
             [
              0.7777777777777778,
              "#fb9f3a"
             ],
             [
              0.8888888888888888,
              "#fdca26"
             ],
             [
              1,
              "#f0f921"
             ]
            ],
            "type": "histogram2dcontour"
           }
          ],
          "mesh3d": [
           {
            "colorbar": {
             "outlinewidth": 0,
             "ticks": ""
            },
            "type": "mesh3d"
           }
          ],
          "parcoords": [
           {
            "line": {
             "colorbar": {
              "outlinewidth": 0,
              "ticks": ""
             }
            },
            "type": "parcoords"
           }
          ],
          "pie": [
           {
            "automargin": true,
            "type": "pie"
           }
          ],
          "scatter": [
           {
            "fillpattern": {
             "fillmode": "overlay",
             "size": 10,
             "solidity": 0.2
            },
            "type": "scatter"
           }
          ],
          "scatter3d": [
           {
            "line": {
             "colorbar": {
              "outlinewidth": 0,
              "ticks": ""
             }
            },
            "marker": {
             "colorbar": {
              "outlinewidth": 0,
              "ticks": ""
             }
            },
            "type": "scatter3d"
           }
          ],
          "scattercarpet": [
           {
            "marker": {
             "colorbar": {
              "outlinewidth": 0,
              "ticks": ""
             }
            },
            "type": "scattercarpet"
           }
          ],
          "scattergeo": [
           {
            "marker": {
             "colorbar": {
              "outlinewidth": 0,
              "ticks": ""
             }
            },
            "type": "scattergeo"
           }
          ],
          "scattergl": [
           {
            "marker": {
             "colorbar": {
              "outlinewidth": 0,
              "ticks": ""
             }
            },
            "type": "scattergl"
           }
          ],
          "scattermapbox": [
           {
            "marker": {
             "colorbar": {
              "outlinewidth": 0,
              "ticks": ""
             }
            },
            "type": "scattermapbox"
           }
          ],
          "scatterpolar": [
           {
            "marker": {
             "colorbar": {
              "outlinewidth": 0,
              "ticks": ""
             }
            },
            "type": "scatterpolar"
           }
          ],
          "scatterpolargl": [
           {
            "marker": {
             "colorbar": {
              "outlinewidth": 0,
              "ticks": ""
             }
            },
            "type": "scatterpolargl"
           }
          ],
          "scatterternary": [
           {
            "marker": {
             "colorbar": {
              "outlinewidth": 0,
              "ticks": ""
             }
            },
            "type": "scatterternary"
           }
          ],
          "surface": [
           {
            "colorbar": {
             "outlinewidth": 0,
             "ticks": ""
            },
            "colorscale": [
             [
              0,
              "#0d0887"
             ],
             [
              0.1111111111111111,
              "#46039f"
             ],
             [
              0.2222222222222222,
              "#7201a8"
             ],
             [
              0.3333333333333333,
              "#9c179e"
             ],
             [
              0.4444444444444444,
              "#bd3786"
             ],
             [
              0.5555555555555556,
              "#d8576b"
             ],
             [
              0.6666666666666666,
              "#ed7953"
             ],
             [
              0.7777777777777778,
              "#fb9f3a"
             ],
             [
              0.8888888888888888,
              "#fdca26"
             ],
             [
              1,
              "#f0f921"
             ]
            ],
            "type": "surface"
           }
          ],
          "table": [
           {
            "cells": {
             "fill": {
              "color": "#EBF0F8"
             },
             "line": {
              "color": "white"
             }
            },
            "header": {
             "fill": {
              "color": "#C8D4E3"
             },
             "line": {
              "color": "white"
             }
            },
            "type": "table"
           }
          ]
         },
         "layout": {
          "annotationdefaults": {
           "arrowcolor": "#2a3f5f",
           "arrowhead": 0,
           "arrowwidth": 1
          },
          "autotypenumbers": "strict",
          "coloraxis": {
           "colorbar": {
            "outlinewidth": 0,
            "ticks": ""
           }
          },
          "colorscale": {
           "diverging": [
            [
             0,
             "#8e0152"
            ],
            [
             0.1,
             "#c51b7d"
            ],
            [
             0.2,
             "#de77ae"
            ],
            [
             0.3,
             "#f1b6da"
            ],
            [
             0.4,
             "#fde0ef"
            ],
            [
             0.5,
             "#f7f7f7"
            ],
            [
             0.6,
             "#e6f5d0"
            ],
            [
             0.7,
             "#b8e186"
            ],
            [
             0.8,
             "#7fbc41"
            ],
            [
             0.9,
             "#4d9221"
            ],
            [
             1,
             "#276419"
            ]
           ],
           "sequential": [
            [
             0,
             "#0d0887"
            ],
            [
             0.1111111111111111,
             "#46039f"
            ],
            [
             0.2222222222222222,
             "#7201a8"
            ],
            [
             0.3333333333333333,
             "#9c179e"
            ],
            [
             0.4444444444444444,
             "#bd3786"
            ],
            [
             0.5555555555555556,
             "#d8576b"
            ],
            [
             0.6666666666666666,
             "#ed7953"
            ],
            [
             0.7777777777777778,
             "#fb9f3a"
            ],
            [
             0.8888888888888888,
             "#fdca26"
            ],
            [
             1,
             "#f0f921"
            ]
           ],
           "sequentialminus": [
            [
             0,
             "#0d0887"
            ],
            [
             0.1111111111111111,
             "#46039f"
            ],
            [
             0.2222222222222222,
             "#7201a8"
            ],
            [
             0.3333333333333333,
             "#9c179e"
            ],
            [
             0.4444444444444444,
             "#bd3786"
            ],
            [
             0.5555555555555556,
             "#d8576b"
            ],
            [
             0.6666666666666666,
             "#ed7953"
            ],
            [
             0.7777777777777778,
             "#fb9f3a"
            ],
            [
             0.8888888888888888,
             "#fdca26"
            ],
            [
             1,
             "#f0f921"
            ]
           ]
          },
          "colorway": [
           "#636efa",
           "#EF553B",
           "#00cc96",
           "#ab63fa",
           "#FFA15A",
           "#19d3f3",
           "#FF6692",
           "#B6E880",
           "#FF97FF",
           "#FECB52"
          ],
          "font": {
           "color": "#2a3f5f"
          },
          "geo": {
           "bgcolor": "white",
           "lakecolor": "white",
           "landcolor": "#E5ECF6",
           "showlakes": true,
           "showland": true,
           "subunitcolor": "white"
          },
          "hoverlabel": {
           "align": "left"
          },
          "hovermode": "closest",
          "mapbox": {
           "style": "light"
          },
          "paper_bgcolor": "white",
          "plot_bgcolor": "#E5ECF6",
          "polar": {
           "angularaxis": {
            "gridcolor": "white",
            "linecolor": "white",
            "ticks": ""
           },
           "bgcolor": "#E5ECF6",
           "radialaxis": {
            "gridcolor": "white",
            "linecolor": "white",
            "ticks": ""
           }
          },
          "scene": {
           "xaxis": {
            "backgroundcolor": "#E5ECF6",
            "gridcolor": "white",
            "gridwidth": 2,
            "linecolor": "white",
            "showbackground": true,
            "ticks": "",
            "zerolinecolor": "white"
           },
           "yaxis": {
            "backgroundcolor": "#E5ECF6",
            "gridcolor": "white",
            "gridwidth": 2,
            "linecolor": "white",
            "showbackground": true,
            "ticks": "",
            "zerolinecolor": "white"
           },
           "zaxis": {
            "backgroundcolor": "#E5ECF6",
            "gridcolor": "white",
            "gridwidth": 2,
            "linecolor": "white",
            "showbackground": true,
            "ticks": "",
            "zerolinecolor": "white"
           }
          },
          "shapedefaults": {
           "line": {
            "color": "#2a3f5f"
           }
          },
          "ternary": {
           "aaxis": {
            "gridcolor": "white",
            "linecolor": "white",
            "ticks": ""
           },
           "baxis": {
            "gridcolor": "white",
            "linecolor": "white",
            "ticks": ""
           },
           "bgcolor": "#E5ECF6",
           "caxis": {
            "gridcolor": "white",
            "linecolor": "white",
            "ticks": ""
           }
          },
          "title": {
           "x": 0.05
          },
          "xaxis": {
           "automargin": true,
           "gridcolor": "white",
           "linecolor": "white",
           "ticks": "",
           "title": {
            "standoff": 15
           },
           "zerolinecolor": "white",
           "zerolinewidth": 2
          },
          "yaxis": {
           "automargin": true,
           "gridcolor": "white",
           "linecolor": "white",
           "ticks": "",
           "title": {
            "standoff": 15
           },
           "zerolinecolor": "white",
           "zerolinewidth": 2
          }
         }
        },
        "title": {
         "text": "sales forcast varience"
        },
        "xaxis": {
         "anchor": "y",
         "domain": [
          0,
          1
         ],
         "title": {
          "text": "sales diff"
         }
        },
        "yaxis": {
         "anchor": "x",
         "domain": [
          0,
          1
         ],
         "title": {
          "text": "Store Sqft"
         }
        }
       }
      },
      "text/html": [
       "<div>                            <div id=\"74be1143-c3c4-4761-ba0f-25453c279e7c\" class=\"plotly-graph-div\" style=\"height:525px; width:100%;\"></div>            <script type=\"text/javascript\">                require([\"plotly\"], function(Plotly) {                    window.PLOTLYENV=window.PLOTLYENV || {};                                    if (document.getElementById(\"74be1143-c3c4-4761-ba0f-25453c279e7c\")) {                    Plotly.newPlot(                        \"74be1143-c3c4-4761-ba0f-25453c279e7c\",                        [{\"hovertemplate\":\"Format=Cafe and Market<br>State=PA<br>sales diff=%{x}<br>Store Sqft=%{y}<extra></extra>\",\"legendgroup\":\"Cafe and Market, PA\",\"marker\":{\"color\":\"#636efa\",\"symbol\":\"circle\"},\"mode\":\"markers\",\"name\":\"Cafe and Market, PA\",\"orientation\":\"v\",\"showlegend\":true,\"x\":[-16794,2770,6971,-11606,13677,9453,16600,-7666,-24403,3088,-2155,-10604,-6363,-18724,-3434,-10003,4767,-10582],\"xaxis\":\"x\",\"y\":[5580,5520,6127,6127,5520,6127,6127,6127,6127,6127,4880,6127,6127,6127,5360,6254,6127,5460],\"yaxis\":\"y\",\"type\":\"scatter\"},{\"hovertemplate\":\"Format=Cafe and Market<br>State=OH<br>sales diff=%{x}<br>Store Sqft=%{y}<extra></extra>\",\"legendgroup\":\"Cafe and Market, OH\",\"marker\":{\"color\":\"#636efa\",\"symbol\":\"diamond\"},\"mode\":\"markers\",\"name\":\"Cafe and Market, OH\",\"orientation\":\"v\",\"showlegend\":true,\"x\":[1843,-973,-13373,-11453,-1060,-2158,3867,16032,-2191,-1425,9048,14031,-16187],\"xaxis\":\"x\",\"y\":[6127,5360,5550,6127,5360,6254,6127,6254,6254,6254,6254,5360,6127],\"yaxis\":\"y\",\"type\":\"scatter\"},{\"hovertemplate\":\"Format=Cafe and Market<br>State=IN<br>sales diff=%{x}<br>Store Sqft=%{y}<extra></extra>\",\"legendgroup\":\"Cafe and Market, IN\",\"marker\":{\"color\":\"#636efa\",\"symbol\":\"x\"},\"mode\":\"markers\",\"name\":\"Cafe and Market, IN\",\"orientation\":\"v\",\"showlegend\":true,\"x\":[-1651,6213,-2555,-4761,5156,4237,1010,-2271,2963,2995,-11866,20,-6649,-2148,2550,741,-1191,-319,-791,-6023,-18322,-1276,-3434,-3053,1077,7206,18204,-5240,2086,260,-1967,383,7891,3775,3512,5472,-9636,-114,845,-1880],\"xaxis\":\"x\",\"y\":[6127,6254,6254,6254,6254,6254,4128,3200,2800,3200,4050,4500,4500,4500,3431,3970,4500,5000,4320,4559,4224,4224,4224,4232,4224,4195,5000,4100,4400,4200,5000,4500,4224,4324,4276,4224,4354,4224,4200,4180],\"yaxis\":\"y\",\"type\":\"scatter\"},{\"hovertemplate\":\"Format=Sub Shop<br>State=PA<br>sales diff=%{x}<br>Store Sqft=%{y}<extra></extra>\",\"legendgroup\":\"Sub Shop, PA\",\"marker\":{\"color\":\"#EF553B\",\"symbol\":\"circle\"},\"mode\":\"markers\",\"name\":\"Sub Shop, PA\",\"orientation\":\"v\",\"showlegend\":true,\"x\":[-20921,-16752,-7703,-1317,-1221,-760,-318,-8358,1444,-4844,8621,36721,-24012,10654,14307,14095,-12512,5095,6309,-9730,-9248,3000,2905,-4700,6153,-2638,1250,350,2762,-13203,11386,-2185,1346,-13273,-36333],\"xaxis\":\"x\",\"y\":[5748,5580,2846,3944,3648,5748,2636,5375,3172,4525,4945,4714,2080,4525,4525,2520,4525,4535,4525,5580,5376,4630,4525,5849,5580,4580,3746,3122,4576,4525,5375,5748,3831,4688,5748],\"yaxis\":\"y\",\"type\":\"scatter\"},{\"hovertemplate\":\"Format=Sub Shop<br>State=OH<br>sales diff=%{x}<br>Store Sqft=%{y}<extra></extra>\",\"legendgroup\":\"Sub Shop, OH\",\"marker\":{\"color\":\"#EF553B\",\"symbol\":\"diamond\"},\"mode\":\"markers\",\"name\":\"Sub Shop, OH\",\"orientation\":\"v\",\"showlegend\":true,\"x\":[335,-3973,11638,-1131,2291,-3277,-252,6324,-2441,17889,-2590,-4571,-3548,-9173,-7455,809,10060,-1223,5377,-526],\"xaxis\":\"x\",\"y\":[5580,5580,5580,4525,4525,4365,4484,3225,4535,5580,5580,3629,4525,2800,5580,3700,5557,3746,5748,5849],\"yaxis\":\"y\",\"type\":\"scatter\"},{\"hovertemplate\":\"Format=Sub Shop<br>State=WV<br>sales diff=%{x}<br>Store Sqft=%{y}<extra></extra>\",\"legendgroup\":\"Sub Shop, WV\",\"marker\":{\"color\":\"#EF553B\",\"symbol\":\"square\"},\"mode\":\"markers\",\"name\":\"Sub Shop, WV\",\"orientation\":\"v\",\"showlegend\":true,\"x\":[-1019],\"xaxis\":\"x\",\"y\":[3700],\"yaxis\":\"y\",\"type\":\"scatter\"},{\"hovertemplate\":\"Format=Sub Shop<br>State=MD<br>sales diff=%{x}<br>Store Sqft=%{y}<extra></extra>\",\"legendgroup\":\"Sub Shop, MD\",\"marker\":{\"color\":\"#EF553B\",\"symbol\":\"cross\"},\"mode\":\"markers\",\"name\":\"Sub Shop, MD\",\"orientation\":\"v\",\"showlegend\":true,\"x\":[3702],\"xaxis\":\"x\",\"y\":[2856],\"yaxis\":\"y\",\"type\":\"scatter\"},{\"hovertemplate\":\"Format=Conventional<br>State=PA<br>sales diff=%{x}<br>Store Sqft=%{y}<extra></extra>\",\"legendgroup\":\"Conventional, PA\",\"marker\":{\"color\":\"#00cc96\",\"symbol\":\"circle\"},\"mode\":\"markers\",\"name\":\"Conventional, PA\",\"orientation\":\"v\",\"showlegend\":true,\"x\":[-2051,7897,4248,115,337,-1703,11519,4802,2447,4982,4682,-3957,-553,-908,568,-2315,-722,1889],\"xaxis\":\"x\",\"y\":[744,543,1960,744,744,786,1674,744,1560,1237,649,1721,1895,1111,1111,675,1111,1895],\"yaxis\":\"y\",\"type\":\"scatter\"},{\"hovertemplate\":\"Format=Conventional<br>State=OH<br>sales diff=%{x}<br>Store Sqft=%{y}<extra></extra>\",\"legendgroup\":\"Conventional, OH\",\"marker\":{\"color\":\"#00cc96\",\"symbol\":\"diamond\"},\"mode\":\"markers\",\"name\":\"Conventional, OH\",\"orientation\":\"v\",\"showlegend\":true,\"x\":[-5455,1725,13659,-427,-2907,618,10230,3729,-316,-3999,-84,-3705,812,2177,1210,2067,19071,4253,1386,-3358,5852,649,-5436,632,347,-2138,-806],\"xaxis\":\"x\",\"y\":[1260,1836,2379,744,1111,786,744,1111,794,1102,1836,2191,744,2360,589,1895,461,717,1620,1111,1111,1973,1111,1111,649,1111,1111],\"yaxis\":\"y\",\"type\":\"scatter\"},{\"hovertemplate\":\"Format=Conventional<br>State=IN<br>sales diff=%{x}<br>Store Sqft=%{y}<extra></extra>\",\"legendgroup\":\"Conventional, IN\",\"marker\":{\"color\":\"#00cc96\",\"symbol\":\"x\"},\"mode\":\"markers\",\"name\":\"Conventional, IN\",\"orientation\":\"v\",\"showlegend\":true,\"x\":[-1401,17185,427,702,5422,-2500,-4546,1340,-545,-1662,2196,-1801,14804,-2600,-4805,-1740,-697,-5818,-733,5155,-1340,-4606],\"xaxis\":\"x\",\"y\":[1800,3116,2374,1804,2500,2000,3600,3500,2416,2350,3500,3000,3182,4410,3025,3974,4312,3600,2310,2800,2332,2500],\"yaxis\":\"y\",\"type\":\"scatter\"},{\"hovertemplate\":\"Format=Conventional<br>State=MD<br>sales diff=%{x}<br>Store Sqft=%{y}<extra></extra>\",\"legendgroup\":\"Conventional, MD\",\"marker\":{\"color\":\"#00cc96\",\"symbol\":\"cross\"},\"mode\":\"markers\",\"name\":\"Conventional, MD\",\"orientation\":\"v\",\"showlegend\":true,\"x\":[-5723],\"xaxis\":\"x\",\"y\":[1615],\"yaxis\":\"y\",\"type\":\"scatter\"},{\"hovertemplate\":\"Format=Grab-n-Go<br>State=PA<br>sales diff=%{x}<br>Store Sqft=%{y}<extra></extra>\",\"legendgroup\":\"Grab-n-Go, PA\",\"marker\":{\"color\":\"#ab63fa\",\"symbol\":\"circle\"},\"mode\":\"markers\",\"name\":\"Grab-n-Go, PA\",\"orientation\":\"v\",\"showlegend\":true,\"x\":[-1471,2891,-3739,2967,-1783,16651,297,1950,499,-5770,2410,981,3705,4553],\"xaxis\":\"x\",\"y\":[1895,3170,744,1836,1895,2386,1111,1937,1836,2266,2081,3273,1111,2528],\"yaxis\":\"y\",\"type\":\"scatter\"},{\"hovertemplate\":\"Format=Grab-n-Go<br>State=OH<br>sales diff=%{x}<br>Store Sqft=%{y}<extra></extra>\",\"legendgroup\":\"Grab-n-Go, OH\",\"marker\":{\"color\":\"#ab63fa\",\"symbol\":\"diamond\"},\"mode\":\"markers\",\"name\":\"Grab-n-Go, OH\",\"orientation\":\"v\",\"showlegend\":true,\"x\":[-505,-910,1013,-3407,-8017,1052,-2674,7898,1413,-5768,-682,-6866,-752,-29086,7680,-3640,-7917,-1563,-349,2201],\"xaxis\":\"x\",\"y\":[1895,1111,1813,2000,1942,3343,1895,1960,2526,2120,2052,1836,1651,2000,1102,1930,1895,1942,2289,2367],\"yaxis\":\"y\",\"type\":\"scatter\"}],                        {\"template\":{\"data\":{\"histogram2dcontour\":[{\"type\":\"histogram2dcontour\",\"colorbar\":{\"outlinewidth\":0,\"ticks\":\"\"},\"colorscale\":[[0.0,\"#0d0887\"],[0.1111111111111111,\"#46039f\"],[0.2222222222222222,\"#7201a8\"],[0.3333333333333333,\"#9c179e\"],[0.4444444444444444,\"#bd3786\"],[0.5555555555555556,\"#d8576b\"],[0.6666666666666666,\"#ed7953\"],[0.7777777777777778,\"#fb9f3a\"],[0.8888888888888888,\"#fdca26\"],[1.0,\"#f0f921\"]]}],\"choropleth\":[{\"type\":\"choropleth\",\"colorbar\":{\"outlinewidth\":0,\"ticks\":\"\"}}],\"histogram2d\":[{\"type\":\"histogram2d\",\"colorbar\":{\"outlinewidth\":0,\"ticks\":\"\"},\"colorscale\":[[0.0,\"#0d0887\"],[0.1111111111111111,\"#46039f\"],[0.2222222222222222,\"#7201a8\"],[0.3333333333333333,\"#9c179e\"],[0.4444444444444444,\"#bd3786\"],[0.5555555555555556,\"#d8576b\"],[0.6666666666666666,\"#ed7953\"],[0.7777777777777778,\"#fb9f3a\"],[0.8888888888888888,\"#fdca26\"],[1.0,\"#f0f921\"]]}],\"heatmap\":[{\"type\":\"heatmap\",\"colorbar\":{\"outlinewidth\":0,\"ticks\":\"\"},\"colorscale\":[[0.0,\"#0d0887\"],[0.1111111111111111,\"#46039f\"],[0.2222222222222222,\"#7201a8\"],[0.3333333333333333,\"#9c179e\"],[0.4444444444444444,\"#bd3786\"],[0.5555555555555556,\"#d8576b\"],[0.6666666666666666,\"#ed7953\"],[0.7777777777777778,\"#fb9f3a\"],[0.8888888888888888,\"#fdca26\"],[1.0,\"#f0f921\"]]}],\"heatmapgl\":[{\"type\":\"heatmapgl\",\"colorbar\":{\"outlinewidth\":0,\"ticks\":\"\"},\"colorscale\":[[0.0,\"#0d0887\"],[0.1111111111111111,\"#46039f\"],[0.2222222222222222,\"#7201a8\"],[0.3333333333333333,\"#9c179e\"],[0.4444444444444444,\"#bd3786\"],[0.5555555555555556,\"#d8576b\"],[0.6666666666666666,\"#ed7953\"],[0.7777777777777778,\"#fb9f3a\"],[0.8888888888888888,\"#fdca26\"],[1.0,\"#f0f921\"]]}],\"contourcarpet\":[{\"type\":\"contourcarpet\",\"colorbar\":{\"outlinewidth\":0,\"ticks\":\"\"}}],\"contour\":[{\"type\":\"contour\",\"colorbar\":{\"outlinewidth\":0,\"ticks\":\"\"},\"colorscale\":[[0.0,\"#0d0887\"],[0.1111111111111111,\"#46039f\"],[0.2222222222222222,\"#7201a8\"],[0.3333333333333333,\"#9c179e\"],[0.4444444444444444,\"#bd3786\"],[0.5555555555555556,\"#d8576b\"],[0.6666666666666666,\"#ed7953\"],[0.7777777777777778,\"#fb9f3a\"],[0.8888888888888888,\"#fdca26\"],[1.0,\"#f0f921\"]]}],\"surface\":[{\"type\":\"surface\",\"colorbar\":{\"outlinewidth\":0,\"ticks\":\"\"},\"colorscale\":[[0.0,\"#0d0887\"],[0.1111111111111111,\"#46039f\"],[0.2222222222222222,\"#7201a8\"],[0.3333333333333333,\"#9c179e\"],[0.4444444444444444,\"#bd3786\"],[0.5555555555555556,\"#d8576b\"],[0.6666666666666666,\"#ed7953\"],[0.7777777777777778,\"#fb9f3a\"],[0.8888888888888888,\"#fdca26\"],[1.0,\"#f0f921\"]]}],\"mesh3d\":[{\"type\":\"mesh3d\",\"colorbar\":{\"outlinewidth\":0,\"ticks\":\"\"}}],\"scatter\":[{\"fillpattern\":{\"fillmode\":\"overlay\",\"size\":10,\"solidity\":0.2},\"type\":\"scatter\"}],\"parcoords\":[{\"type\":\"parcoords\",\"line\":{\"colorbar\":{\"outlinewidth\":0,\"ticks\":\"\"}}}],\"scatterpolargl\":[{\"type\":\"scatterpolargl\",\"marker\":{\"colorbar\":{\"outlinewidth\":0,\"ticks\":\"\"}}}],\"bar\":[{\"error_x\":{\"color\":\"#2a3f5f\"},\"error_y\":{\"color\":\"#2a3f5f\"},\"marker\":{\"line\":{\"color\":\"#E5ECF6\",\"width\":0.5},\"pattern\":{\"fillmode\":\"overlay\",\"size\":10,\"solidity\":0.2}},\"type\":\"bar\"}],\"scattergeo\":[{\"type\":\"scattergeo\",\"marker\":{\"colorbar\":{\"outlinewidth\":0,\"ticks\":\"\"}}}],\"scatterpolar\":[{\"type\":\"scatterpolar\",\"marker\":{\"colorbar\":{\"outlinewidth\":0,\"ticks\":\"\"}}}],\"histogram\":[{\"marker\":{\"pattern\":{\"fillmode\":\"overlay\",\"size\":10,\"solidity\":0.2}},\"type\":\"histogram\"}],\"scattergl\":[{\"type\":\"scattergl\",\"marker\":{\"colorbar\":{\"outlinewidth\":0,\"ticks\":\"\"}}}],\"scatter3d\":[{\"type\":\"scatter3d\",\"line\":{\"colorbar\":{\"outlinewidth\":0,\"ticks\":\"\"}},\"marker\":{\"colorbar\":{\"outlinewidth\":0,\"ticks\":\"\"}}}],\"scattermapbox\":[{\"type\":\"scattermapbox\",\"marker\":{\"colorbar\":{\"outlinewidth\":0,\"ticks\":\"\"}}}],\"scatterternary\":[{\"type\":\"scatterternary\",\"marker\":{\"colorbar\":{\"outlinewidth\":0,\"ticks\":\"\"}}}],\"scattercarpet\":[{\"type\":\"scattercarpet\",\"marker\":{\"colorbar\":{\"outlinewidth\":0,\"ticks\":\"\"}}}],\"carpet\":[{\"aaxis\":{\"endlinecolor\":\"#2a3f5f\",\"gridcolor\":\"white\",\"linecolor\":\"white\",\"minorgridcolor\":\"white\",\"startlinecolor\":\"#2a3f5f\"},\"baxis\":{\"endlinecolor\":\"#2a3f5f\",\"gridcolor\":\"white\",\"linecolor\":\"white\",\"minorgridcolor\":\"white\",\"startlinecolor\":\"#2a3f5f\"},\"type\":\"carpet\"}],\"table\":[{\"cells\":{\"fill\":{\"color\":\"#EBF0F8\"},\"line\":{\"color\":\"white\"}},\"header\":{\"fill\":{\"color\":\"#C8D4E3\"},\"line\":{\"color\":\"white\"}},\"type\":\"table\"}],\"barpolar\":[{\"marker\":{\"line\":{\"color\":\"#E5ECF6\",\"width\":0.5},\"pattern\":{\"fillmode\":\"overlay\",\"size\":10,\"solidity\":0.2}},\"type\":\"barpolar\"}],\"pie\":[{\"automargin\":true,\"type\":\"pie\"}]},\"layout\":{\"autotypenumbers\":\"strict\",\"colorway\":[\"#636efa\",\"#EF553B\",\"#00cc96\",\"#ab63fa\",\"#FFA15A\",\"#19d3f3\",\"#FF6692\",\"#B6E880\",\"#FF97FF\",\"#FECB52\"],\"font\":{\"color\":\"#2a3f5f\"},\"hovermode\":\"closest\",\"hoverlabel\":{\"align\":\"left\"},\"paper_bgcolor\":\"white\",\"plot_bgcolor\":\"#E5ECF6\",\"polar\":{\"bgcolor\":\"#E5ECF6\",\"angularaxis\":{\"gridcolor\":\"white\",\"linecolor\":\"white\",\"ticks\":\"\"},\"radialaxis\":{\"gridcolor\":\"white\",\"linecolor\":\"white\",\"ticks\":\"\"}},\"ternary\":{\"bgcolor\":\"#E5ECF6\",\"aaxis\":{\"gridcolor\":\"white\",\"linecolor\":\"white\",\"ticks\":\"\"},\"baxis\":{\"gridcolor\":\"white\",\"linecolor\":\"white\",\"ticks\":\"\"},\"caxis\":{\"gridcolor\":\"white\",\"linecolor\":\"white\",\"ticks\":\"\"}},\"coloraxis\":{\"colorbar\":{\"outlinewidth\":0,\"ticks\":\"\"}},\"colorscale\":{\"sequential\":[[0.0,\"#0d0887\"],[0.1111111111111111,\"#46039f\"],[0.2222222222222222,\"#7201a8\"],[0.3333333333333333,\"#9c179e\"],[0.4444444444444444,\"#bd3786\"],[0.5555555555555556,\"#d8576b\"],[0.6666666666666666,\"#ed7953\"],[0.7777777777777778,\"#fb9f3a\"],[0.8888888888888888,\"#fdca26\"],[1.0,\"#f0f921\"]],\"sequentialminus\":[[0.0,\"#0d0887\"],[0.1111111111111111,\"#46039f\"],[0.2222222222222222,\"#7201a8\"],[0.3333333333333333,\"#9c179e\"],[0.4444444444444444,\"#bd3786\"],[0.5555555555555556,\"#d8576b\"],[0.6666666666666666,\"#ed7953\"],[0.7777777777777778,\"#fb9f3a\"],[0.8888888888888888,\"#fdca26\"],[1.0,\"#f0f921\"]],\"diverging\":[[0,\"#8e0152\"],[0.1,\"#c51b7d\"],[0.2,\"#de77ae\"],[0.3,\"#f1b6da\"],[0.4,\"#fde0ef\"],[0.5,\"#f7f7f7\"],[0.6,\"#e6f5d0\"],[0.7,\"#b8e186\"],[0.8,\"#7fbc41\"],[0.9,\"#4d9221\"],[1,\"#276419\"]]},\"xaxis\":{\"gridcolor\":\"white\",\"linecolor\":\"white\",\"ticks\":\"\",\"title\":{\"standoff\":15},\"zerolinecolor\":\"white\",\"automargin\":true,\"zerolinewidth\":2},\"yaxis\":{\"gridcolor\":\"white\",\"linecolor\":\"white\",\"ticks\":\"\",\"title\":{\"standoff\":15},\"zerolinecolor\":\"white\",\"automargin\":true,\"zerolinewidth\":2},\"scene\":{\"xaxis\":{\"backgroundcolor\":\"#E5ECF6\",\"gridcolor\":\"white\",\"linecolor\":\"white\",\"showbackground\":true,\"ticks\":\"\",\"zerolinecolor\":\"white\",\"gridwidth\":2},\"yaxis\":{\"backgroundcolor\":\"#E5ECF6\",\"gridcolor\":\"white\",\"linecolor\":\"white\",\"showbackground\":true,\"ticks\":\"\",\"zerolinecolor\":\"white\",\"gridwidth\":2},\"zaxis\":{\"backgroundcolor\":\"#E5ECF6\",\"gridcolor\":\"white\",\"linecolor\":\"white\",\"showbackground\":true,\"ticks\":\"\",\"zerolinecolor\":\"white\",\"gridwidth\":2}},\"shapedefaults\":{\"line\":{\"color\":\"#2a3f5f\"}},\"annotationdefaults\":{\"arrowcolor\":\"#2a3f5f\",\"arrowhead\":0,\"arrowwidth\":1},\"geo\":{\"bgcolor\":\"white\",\"landcolor\":\"#E5ECF6\",\"subunitcolor\":\"white\",\"showland\":true,\"showlakes\":true,\"lakecolor\":\"white\"},\"title\":{\"x\":0.05},\"mapbox\":{\"style\":\"light\"}}},\"xaxis\":{\"anchor\":\"y\",\"domain\":[0.0,1.0],\"title\":{\"text\":\"sales diff\"}},\"yaxis\":{\"anchor\":\"x\",\"domain\":[0.0,1.0],\"title\":{\"text\":\"Store Sqft\"}},\"legend\":{\"title\":{\"text\":\"Format, State\"},\"tracegroupgap\":0},\"title\":{\"text\":\"sales forcast varience\"}},                        {\"responsive\": true}                    ).then(function(){\n",
       "                            \n",
       "var gd = document.getElementById('74be1143-c3c4-4761-ba0f-25453c279e7c');\n",
       "var x = new MutationObserver(function (mutations, observer) {{\n",
       "        var display = window.getComputedStyle(gd).display;\n",
       "        if (!display || display === 'none') {{\n",
       "            console.log([gd, 'removed!']);\n",
       "            Plotly.purge(gd);\n",
       "            observer.disconnect();\n",
       "        }}\n",
       "}});\n",
       "\n",
       "// Listen for the removal of the full notebook cells\n",
       "var notebookContainer = gd.closest('#notebook-container');\n",
       "if (notebookContainer) {{\n",
       "    x.observe(notebookContainer, {childList: true});\n",
       "}}\n",
       "\n",
       "// Listen for the clearing of the current output cell\n",
       "var outputEl = gd.closest('.output');\n",
       "if (outputEl) {{\n",
       "    x.observe(outputEl, {childList: true});\n",
       "}}\n",
       "\n",
       "                        })                };                });            </script>        </div>"
      ]
     },
     "metadata": {},
     "output_type": "display_data"
    }
   ],
   "source": [
    "fig=px.scatter(tango,x='sales diff',y='Store Sqft',color='Format',symbol='State',title='sales forcast varience')\n",
    "fig.show()"
   ]
  },
  {
   "cell_type": "code",
   "execution_count": 19,
   "id": "8dcbdc7f",
   "metadata": {},
   "outputs": [
    {
     "data": {
      "application/vnd.plotly.v1+json": {
       "config": {
        "plotlyServerURL": "https://plot.ly"
       },
       "data": [
        {
         "hovertemplate": "Format=Cafe and Market<br>State=PA<br>Fuel diff=%{x}<br>Store Sqft=%{y}<extra></extra>",
         "legendgroup": "Cafe and Market, PA",
         "marker": {
          "color": "#636efa",
          "symbol": "circle"
         },
         "mode": "markers",
         "name": "Cafe and Market, PA",
         "orientation": "v",
         "showlegend": true,
         "type": "scatter",
         "x": [
          1346,
          -42960,
          null,
          -21959,
          -6683,
          8958,
          13977,
          null,
          6352,
          -17739,
          1141,
          812,
          1507,
          8530,
          -2784,
          16635,
          -11445,
          null
         ],
         "xaxis": "x",
         "y": [
          5580,
          5520,
          6127,
          6127,
          5520,
          6127,
          6127,
          6127,
          6127,
          6127,
          4880,
          6127,
          6127,
          6127,
          5360,
          6254,
          6127,
          5460
         ],
         "yaxis": "y"
        },
        {
         "hovertemplate": "Format=Cafe and Market<br>State=OH<br>Fuel diff=%{x}<br>Store Sqft=%{y}<extra></extra>",
         "legendgroup": "Cafe and Market, OH",
         "marker": {
          "color": "#636efa",
          "symbol": "diamond"
         },
         "mode": "markers",
         "name": "Cafe and Market, OH",
         "orientation": "v",
         "showlegend": true,
         "type": "scatter",
         "x": [
          -27339,
          1672,
          -1214,
          2564,
          961,
          -14230,
          -5348,
          6330,
          1368,
          3955,
          1754,
          -3656,
          -13035
         ],
         "xaxis": "x",
         "y": [
          6127,
          5360,
          5550,
          6127,
          5360,
          6254,
          6127,
          6254,
          6254,
          6254,
          6254,
          5360,
          6127
         ],
         "yaxis": "y"
        },
        {
         "hovertemplate": "Format=Cafe and Market<br>State=IN<br>Fuel diff=%{x}<br>Store Sqft=%{y}<extra></extra>",
         "legendgroup": "Cafe and Market, IN",
         "marker": {
          "color": "#636efa",
          "symbol": "x"
         },
         "mode": "markers",
         "name": "Cafe and Market, IN",
         "orientation": "v",
         "showlegend": true,
         "type": "scatter",
         "x": [
          -540,
          -2307,
          -15315,
          -4175,
          9244,
          -8232,
          219,
          -6124,
          2138,
          5715,
          -2130,
          -6009,
          -1802,
          -18507,
          -3636,
          798,
          1031,
          -6925,
          -2390,
          -9848,
          989,
          -26690,
          2559,
          -5690,
          8476,
          11742,
          9668,
          172,
          -510,
          6494,
          -4748,
          558,
          -4567,
          -2407,
          4716,
          -2474,
          3242,
          7135,
          5913,
          -1366
         ],
         "xaxis": "x",
         "y": [
          6127,
          6254,
          6254,
          6254,
          6254,
          6254,
          4128,
          3200,
          2800,
          3200,
          4050,
          4500,
          4500,
          4500,
          3431,
          3970,
          4500,
          5000,
          4320,
          4559,
          4224,
          4224,
          4224,
          4232,
          4224,
          4195,
          5000,
          4100,
          4400,
          4200,
          5000,
          4500,
          4224,
          4324,
          4276,
          4224,
          4354,
          4224,
          4200,
          4180
         ],
         "yaxis": "y"
        },
        {
         "hovertemplate": "Format=Sub Shop<br>State=PA<br>Fuel diff=%{x}<br>Store Sqft=%{y}<extra></extra>",
         "legendgroup": "Sub Shop, PA",
         "marker": {
          "color": "#EF553B",
          "symbol": "circle"
         },
         "mode": "markers",
         "name": "Sub Shop, PA",
         "orientation": "v",
         "showlegend": true,
         "type": "scatter",
         "x": [
          null,
          -2337,
          -2605,
          18608,
          -144,
          null,
          4847,
          4017,
          -4954,
          19504,
          4241,
          4448,
          -505,
          14099,
          5004,
          null,
          -6450,
          -13258,
          16660,
          -5162,
          1290,
          -11361,
          578,
          3834,
          6267,
          -1458,
          -4509,
          712,
          -7389,
          -12429,
          -2207,
          10080,
          -2835,
          -11254,
          null
         ],
         "xaxis": "x",
         "y": [
          5748,
          5580,
          2846,
          3944,
          3648,
          5748,
          2636,
          5375,
          3172,
          4525,
          4945,
          4714,
          2080,
          4525,
          4525,
          2520,
          4525,
          4535,
          4525,
          5580,
          5376,
          4630,
          4525,
          5849,
          5580,
          4580,
          3746,
          3122,
          4576,
          4525,
          5375,
          5748,
          3831,
          4688,
          5748
         ],
         "yaxis": "y"
        },
        {
         "hovertemplate": "Format=Sub Shop<br>State=OH<br>Fuel diff=%{x}<br>Store Sqft=%{y}<extra></extra>",
         "legendgroup": "Sub Shop, OH",
         "marker": {
          "color": "#EF553B",
          "symbol": "diamond"
         },
         "mode": "markers",
         "name": "Sub Shop, OH",
         "orientation": "v",
         "showlegend": true,
         "type": "scatter",
         "x": [
          -4533,
          2700,
          3713,
          -4520,
          -4894,
          3557,
          -9083,
          823,
          7507,
          4755,
          1394,
          -10412,
          -2663,
          -8743,
          2734,
          -10521,
          7687,
          -8588,
          -10005,
          6132
         ],
         "xaxis": "x",
         "y": [
          5580,
          5580,
          5580,
          4525,
          4525,
          4365,
          4484,
          3225,
          4535,
          5580,
          5580,
          3629,
          4525,
          2800,
          5580,
          3700,
          5557,
          3746,
          5748,
          5849
         ],
         "yaxis": "y"
        },
        {
         "hovertemplate": "Format=Sub Shop<br>State=WV<br>Fuel diff=%{x}<br>Store Sqft=%{y}<extra></extra>",
         "legendgroup": "Sub Shop, WV",
         "marker": {
          "color": "#EF553B",
          "symbol": "square"
         },
         "mode": "markers",
         "name": "Sub Shop, WV",
         "orientation": "v",
         "showlegend": true,
         "type": "scatter",
         "x": [
          281
         ],
         "xaxis": "x",
         "y": [
          3700
         ],
         "yaxis": "y"
        },
        {
         "hovertemplate": "Format=Sub Shop<br>State=MD<br>Fuel diff=%{x}<br>Store Sqft=%{y}<extra></extra>",
         "legendgroup": "Sub Shop, MD",
         "marker": {
          "color": "#EF553B",
          "symbol": "cross"
         },
         "mode": "markers",
         "name": "Sub Shop, MD",
         "orientation": "v",
         "showlegend": true,
         "type": "scatter",
         "x": [
          -1620
         ],
         "xaxis": "x",
         "y": [
          2856
         ],
         "yaxis": "y"
        },
        {
         "hovertemplate": "Format=Conventional<br>State=PA<br>Fuel diff=%{x}<br>Store Sqft=%{y}<extra></extra>",
         "legendgroup": "Conventional, PA",
         "marker": {
          "color": "#00cc96",
          "symbol": "circle"
         },
         "mode": "markers",
         "name": "Conventional, PA",
         "orientation": "v",
         "showlegend": true,
         "type": "scatter",
         "x": [
          -9702,
          1610,
          21898,
          6723,
          -16217,
          2233,
          4934,
          1993,
          1433,
          1108,
          -3510,
          -875,
          3023,
          -6689,
          -3183,
          -2965,
          -7585,
          3904
         ],
         "xaxis": "x",
         "y": [
          744,
          543,
          1960,
          744,
          744,
          786,
          1674,
          744,
          1560,
          1237,
          649,
          1721,
          1895,
          1111,
          1111,
          675,
          1111,
          1895
         ],
         "yaxis": "y"
        },
        {
         "hovertemplate": "Format=Conventional<br>State=OH<br>Fuel diff=%{x}<br>Store Sqft=%{y}<extra></extra>",
         "legendgroup": "Conventional, OH",
         "marker": {
          "color": "#00cc96",
          "symbol": "diamond"
         },
         "mode": "markers",
         "name": "Conventional, OH",
         "orientation": "v",
         "showlegend": true,
         "type": "scatter",
         "x": [
          5185,
          -784,
          477,
          2456,
          4126,
          -3565,
          8962,
          12293,
          -5127,
          -957,
          1734,
          -1781,
          -2132,
          -4062,
          -323,
          5933,
          2441,
          352,
          1514,
          -1465,
          8618,
          6894,
          1289,
          -6982,
          -22,
          -5775,
          -13780
         ],
         "xaxis": "x",
         "y": [
          1260,
          1836,
          2379,
          744,
          1111,
          786,
          744,
          1111,
          794,
          1102,
          1836,
          2191,
          744,
          2360,
          589,
          1895,
          461,
          717,
          1620,
          1111,
          1111,
          1973,
          1111,
          1111,
          649,
          1111,
          1111
         ],
         "yaxis": "y"
        },
        {
         "hovertemplate": "Format=Conventional<br>State=IN<br>Fuel diff=%{x}<br>Store Sqft=%{y}<extra></extra>",
         "legendgroup": "Conventional, IN",
         "marker": {
          "color": "#00cc96",
          "symbol": "x"
         },
         "mode": "markers",
         "name": "Conventional, IN",
         "orientation": "v",
         "showlegend": true,
         "type": "scatter",
         "x": [
          3216,
          1645,
          2536,
          3179,
          1571,
          2551,
          1311,
          -549,
          -4912,
          5115,
          1780,
          1011,
          1314,
          -4508,
          -18344,
          -11465,
          -1676,
          -13529,
          1235,
          19234,
          684,
          -901
         ],
         "xaxis": "x",
         "y": [
          1800,
          3116,
          2374,
          1804,
          2500,
          2000,
          3600,
          3500,
          2416,
          2350,
          3500,
          3000,
          3182,
          4410,
          3025,
          3974,
          4312,
          3600,
          2310,
          2800,
          2332,
          2500
         ],
         "yaxis": "y"
        },
        {
         "hovertemplate": "Format=Conventional<br>State=MD<br>Fuel diff=%{x}<br>Store Sqft=%{y}<extra></extra>",
         "legendgroup": "Conventional, MD",
         "marker": {
          "color": "#00cc96",
          "symbol": "cross"
         },
         "mode": "markers",
         "name": "Conventional, MD",
         "orientation": "v",
         "showlegend": true,
         "type": "scatter",
         "x": [
          -2439
         ],
         "xaxis": "x",
         "y": [
          1615
         ],
         "yaxis": "y"
        },
        {
         "hovertemplate": "Format=Grab-n-Go<br>State=PA<br>Fuel diff=%{x}<br>Store Sqft=%{y}<extra></extra>",
         "legendgroup": "Grab-n-Go, PA",
         "marker": {
          "color": "#ab63fa",
          "symbol": "circle"
         },
         "mode": "markers",
         "name": "Grab-n-Go, PA",
         "orientation": "v",
         "showlegend": true,
         "type": "scatter",
         "x": [
          9527,
          -1086,
          423,
          3160,
          3757,
          -5297,
          2514,
          -3058,
          -2593,
          2927,
          8098,
          1754,
          -2168,
          -886
         ],
         "xaxis": "x",
         "y": [
          1895,
          3170,
          744,
          1836,
          1895,
          2386,
          1111,
          1937,
          1836,
          2266,
          2081,
          3273,
          1111,
          2528
         ],
         "yaxis": "y"
        },
        {
         "hovertemplate": "Format=Grab-n-Go<br>State=OH<br>Fuel diff=%{x}<br>Store Sqft=%{y}<extra></extra>",
         "legendgroup": "Grab-n-Go, OH",
         "marker": {
          "color": "#ab63fa",
          "symbol": "diamond"
         },
         "mode": "markers",
         "name": "Grab-n-Go, OH",
         "orientation": "v",
         "showlegend": true,
         "type": "scatter",
         "x": [
          -5108,
          8159,
          7414,
          -5034,
          -3001,
          1011,
          -568,
          -2541,
          -1112,
          6189,
          1926,
          -8023,
          -9795,
          -5969,
          8418,
          -2542,
          -2985,
          4150,
          1920,
          3636
         ],
         "xaxis": "x",
         "y": [
          1895,
          1111,
          1813,
          2000,
          1942,
          3343,
          1895,
          1960,
          2526,
          2120,
          2052,
          1836,
          1651,
          2000,
          1102,
          1930,
          1895,
          1942,
          2289,
          2367
         ],
         "yaxis": "y"
        }
       ],
       "layout": {
        "legend": {
         "title": {
          "text": "Format, State"
         },
         "tracegroupgap": 0
        },
        "template": {
         "data": {
          "bar": [
           {
            "error_x": {
             "color": "#2a3f5f"
            },
            "error_y": {
             "color": "#2a3f5f"
            },
            "marker": {
             "line": {
              "color": "#E5ECF6",
              "width": 0.5
             },
             "pattern": {
              "fillmode": "overlay",
              "size": 10,
              "solidity": 0.2
             }
            },
            "type": "bar"
           }
          ],
          "barpolar": [
           {
            "marker": {
             "line": {
              "color": "#E5ECF6",
              "width": 0.5
             },
             "pattern": {
              "fillmode": "overlay",
              "size": 10,
              "solidity": 0.2
             }
            },
            "type": "barpolar"
           }
          ],
          "carpet": [
           {
            "aaxis": {
             "endlinecolor": "#2a3f5f",
             "gridcolor": "white",
             "linecolor": "white",
             "minorgridcolor": "white",
             "startlinecolor": "#2a3f5f"
            },
            "baxis": {
             "endlinecolor": "#2a3f5f",
             "gridcolor": "white",
             "linecolor": "white",
             "minorgridcolor": "white",
             "startlinecolor": "#2a3f5f"
            },
            "type": "carpet"
           }
          ],
          "choropleth": [
           {
            "colorbar": {
             "outlinewidth": 0,
             "ticks": ""
            },
            "type": "choropleth"
           }
          ],
          "contour": [
           {
            "colorbar": {
             "outlinewidth": 0,
             "ticks": ""
            },
            "colorscale": [
             [
              0,
              "#0d0887"
             ],
             [
              0.1111111111111111,
              "#46039f"
             ],
             [
              0.2222222222222222,
              "#7201a8"
             ],
             [
              0.3333333333333333,
              "#9c179e"
             ],
             [
              0.4444444444444444,
              "#bd3786"
             ],
             [
              0.5555555555555556,
              "#d8576b"
             ],
             [
              0.6666666666666666,
              "#ed7953"
             ],
             [
              0.7777777777777778,
              "#fb9f3a"
             ],
             [
              0.8888888888888888,
              "#fdca26"
             ],
             [
              1,
              "#f0f921"
             ]
            ],
            "type": "contour"
           }
          ],
          "contourcarpet": [
           {
            "colorbar": {
             "outlinewidth": 0,
             "ticks": ""
            },
            "type": "contourcarpet"
           }
          ],
          "heatmap": [
           {
            "colorbar": {
             "outlinewidth": 0,
             "ticks": ""
            },
            "colorscale": [
             [
              0,
              "#0d0887"
             ],
             [
              0.1111111111111111,
              "#46039f"
             ],
             [
              0.2222222222222222,
              "#7201a8"
             ],
             [
              0.3333333333333333,
              "#9c179e"
             ],
             [
              0.4444444444444444,
              "#bd3786"
             ],
             [
              0.5555555555555556,
              "#d8576b"
             ],
             [
              0.6666666666666666,
              "#ed7953"
             ],
             [
              0.7777777777777778,
              "#fb9f3a"
             ],
             [
              0.8888888888888888,
              "#fdca26"
             ],
             [
              1,
              "#f0f921"
             ]
            ],
            "type": "heatmap"
           }
          ],
          "heatmapgl": [
           {
            "colorbar": {
             "outlinewidth": 0,
             "ticks": ""
            },
            "colorscale": [
             [
              0,
              "#0d0887"
             ],
             [
              0.1111111111111111,
              "#46039f"
             ],
             [
              0.2222222222222222,
              "#7201a8"
             ],
             [
              0.3333333333333333,
              "#9c179e"
             ],
             [
              0.4444444444444444,
              "#bd3786"
             ],
             [
              0.5555555555555556,
              "#d8576b"
             ],
             [
              0.6666666666666666,
              "#ed7953"
             ],
             [
              0.7777777777777778,
              "#fb9f3a"
             ],
             [
              0.8888888888888888,
              "#fdca26"
             ],
             [
              1,
              "#f0f921"
             ]
            ],
            "type": "heatmapgl"
           }
          ],
          "histogram": [
           {
            "marker": {
             "pattern": {
              "fillmode": "overlay",
              "size": 10,
              "solidity": 0.2
             }
            },
            "type": "histogram"
           }
          ],
          "histogram2d": [
           {
            "colorbar": {
             "outlinewidth": 0,
             "ticks": ""
            },
            "colorscale": [
             [
              0,
              "#0d0887"
             ],
             [
              0.1111111111111111,
              "#46039f"
             ],
             [
              0.2222222222222222,
              "#7201a8"
             ],
             [
              0.3333333333333333,
              "#9c179e"
             ],
             [
              0.4444444444444444,
              "#bd3786"
             ],
             [
              0.5555555555555556,
              "#d8576b"
             ],
             [
              0.6666666666666666,
              "#ed7953"
             ],
             [
              0.7777777777777778,
              "#fb9f3a"
             ],
             [
              0.8888888888888888,
              "#fdca26"
             ],
             [
              1,
              "#f0f921"
             ]
            ],
            "type": "histogram2d"
           }
          ],
          "histogram2dcontour": [
           {
            "colorbar": {
             "outlinewidth": 0,
             "ticks": ""
            },
            "colorscale": [
             [
              0,
              "#0d0887"
             ],
             [
              0.1111111111111111,
              "#46039f"
             ],
             [
              0.2222222222222222,
              "#7201a8"
             ],
             [
              0.3333333333333333,
              "#9c179e"
             ],
             [
              0.4444444444444444,
              "#bd3786"
             ],
             [
              0.5555555555555556,
              "#d8576b"
             ],
             [
              0.6666666666666666,
              "#ed7953"
             ],
             [
              0.7777777777777778,
              "#fb9f3a"
             ],
             [
              0.8888888888888888,
              "#fdca26"
             ],
             [
              1,
              "#f0f921"
             ]
            ],
            "type": "histogram2dcontour"
           }
          ],
          "mesh3d": [
           {
            "colorbar": {
             "outlinewidth": 0,
             "ticks": ""
            },
            "type": "mesh3d"
           }
          ],
          "parcoords": [
           {
            "line": {
             "colorbar": {
              "outlinewidth": 0,
              "ticks": ""
             }
            },
            "type": "parcoords"
           }
          ],
          "pie": [
           {
            "automargin": true,
            "type": "pie"
           }
          ],
          "scatter": [
           {
            "fillpattern": {
             "fillmode": "overlay",
             "size": 10,
             "solidity": 0.2
            },
            "type": "scatter"
           }
          ],
          "scatter3d": [
           {
            "line": {
             "colorbar": {
              "outlinewidth": 0,
              "ticks": ""
             }
            },
            "marker": {
             "colorbar": {
              "outlinewidth": 0,
              "ticks": ""
             }
            },
            "type": "scatter3d"
           }
          ],
          "scattercarpet": [
           {
            "marker": {
             "colorbar": {
              "outlinewidth": 0,
              "ticks": ""
             }
            },
            "type": "scattercarpet"
           }
          ],
          "scattergeo": [
           {
            "marker": {
             "colorbar": {
              "outlinewidth": 0,
              "ticks": ""
             }
            },
            "type": "scattergeo"
           }
          ],
          "scattergl": [
           {
            "marker": {
             "colorbar": {
              "outlinewidth": 0,
              "ticks": ""
             }
            },
            "type": "scattergl"
           }
          ],
          "scattermapbox": [
           {
            "marker": {
             "colorbar": {
              "outlinewidth": 0,
              "ticks": ""
             }
            },
            "type": "scattermapbox"
           }
          ],
          "scatterpolar": [
           {
            "marker": {
             "colorbar": {
              "outlinewidth": 0,
              "ticks": ""
             }
            },
            "type": "scatterpolar"
           }
          ],
          "scatterpolargl": [
           {
            "marker": {
             "colorbar": {
              "outlinewidth": 0,
              "ticks": ""
             }
            },
            "type": "scatterpolargl"
           }
          ],
          "scatterternary": [
           {
            "marker": {
             "colorbar": {
              "outlinewidth": 0,
              "ticks": ""
             }
            },
            "type": "scatterternary"
           }
          ],
          "surface": [
           {
            "colorbar": {
             "outlinewidth": 0,
             "ticks": ""
            },
            "colorscale": [
             [
              0,
              "#0d0887"
             ],
             [
              0.1111111111111111,
              "#46039f"
             ],
             [
              0.2222222222222222,
              "#7201a8"
             ],
             [
              0.3333333333333333,
              "#9c179e"
             ],
             [
              0.4444444444444444,
              "#bd3786"
             ],
             [
              0.5555555555555556,
              "#d8576b"
             ],
             [
              0.6666666666666666,
              "#ed7953"
             ],
             [
              0.7777777777777778,
              "#fb9f3a"
             ],
             [
              0.8888888888888888,
              "#fdca26"
             ],
             [
              1,
              "#f0f921"
             ]
            ],
            "type": "surface"
           }
          ],
          "table": [
           {
            "cells": {
             "fill": {
              "color": "#EBF0F8"
             },
             "line": {
              "color": "white"
             }
            },
            "header": {
             "fill": {
              "color": "#C8D4E3"
             },
             "line": {
              "color": "white"
             }
            },
            "type": "table"
           }
          ]
         },
         "layout": {
          "annotationdefaults": {
           "arrowcolor": "#2a3f5f",
           "arrowhead": 0,
           "arrowwidth": 1
          },
          "autotypenumbers": "strict",
          "coloraxis": {
           "colorbar": {
            "outlinewidth": 0,
            "ticks": ""
           }
          },
          "colorscale": {
           "diverging": [
            [
             0,
             "#8e0152"
            ],
            [
             0.1,
             "#c51b7d"
            ],
            [
             0.2,
             "#de77ae"
            ],
            [
             0.3,
             "#f1b6da"
            ],
            [
             0.4,
             "#fde0ef"
            ],
            [
             0.5,
             "#f7f7f7"
            ],
            [
             0.6,
             "#e6f5d0"
            ],
            [
             0.7,
             "#b8e186"
            ],
            [
             0.8,
             "#7fbc41"
            ],
            [
             0.9,
             "#4d9221"
            ],
            [
             1,
             "#276419"
            ]
           ],
           "sequential": [
            [
             0,
             "#0d0887"
            ],
            [
             0.1111111111111111,
             "#46039f"
            ],
            [
             0.2222222222222222,
             "#7201a8"
            ],
            [
             0.3333333333333333,
             "#9c179e"
            ],
            [
             0.4444444444444444,
             "#bd3786"
            ],
            [
             0.5555555555555556,
             "#d8576b"
            ],
            [
             0.6666666666666666,
             "#ed7953"
            ],
            [
             0.7777777777777778,
             "#fb9f3a"
            ],
            [
             0.8888888888888888,
             "#fdca26"
            ],
            [
             1,
             "#f0f921"
            ]
           ],
           "sequentialminus": [
            [
             0,
             "#0d0887"
            ],
            [
             0.1111111111111111,
             "#46039f"
            ],
            [
             0.2222222222222222,
             "#7201a8"
            ],
            [
             0.3333333333333333,
             "#9c179e"
            ],
            [
             0.4444444444444444,
             "#bd3786"
            ],
            [
             0.5555555555555556,
             "#d8576b"
            ],
            [
             0.6666666666666666,
             "#ed7953"
            ],
            [
             0.7777777777777778,
             "#fb9f3a"
            ],
            [
             0.8888888888888888,
             "#fdca26"
            ],
            [
             1,
             "#f0f921"
            ]
           ]
          },
          "colorway": [
           "#636efa",
           "#EF553B",
           "#00cc96",
           "#ab63fa",
           "#FFA15A",
           "#19d3f3",
           "#FF6692",
           "#B6E880",
           "#FF97FF",
           "#FECB52"
          ],
          "font": {
           "color": "#2a3f5f"
          },
          "geo": {
           "bgcolor": "white",
           "lakecolor": "white",
           "landcolor": "#E5ECF6",
           "showlakes": true,
           "showland": true,
           "subunitcolor": "white"
          },
          "hoverlabel": {
           "align": "left"
          },
          "hovermode": "closest",
          "mapbox": {
           "style": "light"
          },
          "paper_bgcolor": "white",
          "plot_bgcolor": "#E5ECF6",
          "polar": {
           "angularaxis": {
            "gridcolor": "white",
            "linecolor": "white",
            "ticks": ""
           },
           "bgcolor": "#E5ECF6",
           "radialaxis": {
            "gridcolor": "white",
            "linecolor": "white",
            "ticks": ""
           }
          },
          "scene": {
           "xaxis": {
            "backgroundcolor": "#E5ECF6",
            "gridcolor": "white",
            "gridwidth": 2,
            "linecolor": "white",
            "showbackground": true,
            "ticks": "",
            "zerolinecolor": "white"
           },
           "yaxis": {
            "backgroundcolor": "#E5ECF6",
            "gridcolor": "white",
            "gridwidth": 2,
            "linecolor": "white",
            "showbackground": true,
            "ticks": "",
            "zerolinecolor": "white"
           },
           "zaxis": {
            "backgroundcolor": "#E5ECF6",
            "gridcolor": "white",
            "gridwidth": 2,
            "linecolor": "white",
            "showbackground": true,
            "ticks": "",
            "zerolinecolor": "white"
           }
          },
          "shapedefaults": {
           "line": {
            "color": "#2a3f5f"
           }
          },
          "ternary": {
           "aaxis": {
            "gridcolor": "white",
            "linecolor": "white",
            "ticks": ""
           },
           "baxis": {
            "gridcolor": "white",
            "linecolor": "white",
            "ticks": ""
           },
           "bgcolor": "#E5ECF6",
           "caxis": {
            "gridcolor": "white",
            "linecolor": "white",
            "ticks": ""
           }
          },
          "title": {
           "x": 0.05
          },
          "xaxis": {
           "automargin": true,
           "gridcolor": "white",
           "linecolor": "white",
           "ticks": "",
           "title": {
            "standoff": 15
           },
           "zerolinecolor": "white",
           "zerolinewidth": 2
          },
          "yaxis": {
           "automargin": true,
           "gridcolor": "white",
           "linecolor": "white",
           "ticks": "",
           "title": {
            "standoff": 15
           },
           "zerolinecolor": "white",
           "zerolinewidth": 2
          }
         }
        },
        "title": {
         "text": "Fuel forcast varience"
        },
        "xaxis": {
         "anchor": "y",
         "domain": [
          0,
          1
         ],
         "title": {
          "text": "Fuel diff"
         }
        },
        "yaxis": {
         "anchor": "x",
         "domain": [
          0,
          1
         ],
         "title": {
          "text": "Store Sqft"
         }
        }
       }
      },
      "text/html": [
       "<div>                            <div id=\"d0728c6f-96a7-4f63-b3da-4a85c56935c7\" class=\"plotly-graph-div\" style=\"height:525px; width:100%;\"></div>            <script type=\"text/javascript\">                require([\"plotly\"], function(Plotly) {                    window.PLOTLYENV=window.PLOTLYENV || {};                                    if (document.getElementById(\"d0728c6f-96a7-4f63-b3da-4a85c56935c7\")) {                    Plotly.newPlot(                        \"d0728c6f-96a7-4f63-b3da-4a85c56935c7\",                        [{\"hovertemplate\":\"Format=Cafe and Market<br>State=PA<br>Fuel diff=%{x}<br>Store Sqft=%{y}<extra></extra>\",\"legendgroup\":\"Cafe and Market, PA\",\"marker\":{\"color\":\"#636efa\",\"symbol\":\"circle\"},\"mode\":\"markers\",\"name\":\"Cafe and Market, PA\",\"orientation\":\"v\",\"showlegend\":true,\"x\":[1346.0,-42960.0,null,-21959.0,-6683.0,8958.0,13977.0,null,6352.0,-17739.0,1141.0,812.0,1507.0,8530.0,-2784.0,16635.0,-11445.0,null],\"xaxis\":\"x\",\"y\":[5580,5520,6127,6127,5520,6127,6127,6127,6127,6127,4880,6127,6127,6127,5360,6254,6127,5460],\"yaxis\":\"y\",\"type\":\"scatter\"},{\"hovertemplate\":\"Format=Cafe and Market<br>State=OH<br>Fuel diff=%{x}<br>Store Sqft=%{y}<extra></extra>\",\"legendgroup\":\"Cafe and Market, OH\",\"marker\":{\"color\":\"#636efa\",\"symbol\":\"diamond\"},\"mode\":\"markers\",\"name\":\"Cafe and Market, OH\",\"orientation\":\"v\",\"showlegend\":true,\"x\":[-27339.0,1672.0,-1214.0,2564.0,961.0,-14230.0,-5348.0,6330.0,1368.0,3955.0,1754.0,-3656.0,-13035.0],\"xaxis\":\"x\",\"y\":[6127,5360,5550,6127,5360,6254,6127,6254,6254,6254,6254,5360,6127],\"yaxis\":\"y\",\"type\":\"scatter\"},{\"hovertemplate\":\"Format=Cafe and Market<br>State=IN<br>Fuel diff=%{x}<br>Store Sqft=%{y}<extra></extra>\",\"legendgroup\":\"Cafe and Market, IN\",\"marker\":{\"color\":\"#636efa\",\"symbol\":\"x\"},\"mode\":\"markers\",\"name\":\"Cafe and Market, IN\",\"orientation\":\"v\",\"showlegend\":true,\"x\":[-540.0,-2307.0,-15315.0,-4175.0,9244.0,-8232.0,219.0,-6124.0,2138.0,5715.0,-2130.0,-6009.0,-1802.0,-18507.0,-3636.0,798.0,1031.0,-6925.0,-2390.0,-9848.0,989.0,-26690.0,2559.0,-5690.0,8476.0,11742.0,9668.0,172.0,-510.0,6494.0,-4748.0,558.0,-4567.0,-2407.0,4716.0,-2474.0,3242.0,7135.0,5913.0,-1366.0],\"xaxis\":\"x\",\"y\":[6127,6254,6254,6254,6254,6254,4128,3200,2800,3200,4050,4500,4500,4500,3431,3970,4500,5000,4320,4559,4224,4224,4224,4232,4224,4195,5000,4100,4400,4200,5000,4500,4224,4324,4276,4224,4354,4224,4200,4180],\"yaxis\":\"y\",\"type\":\"scatter\"},{\"hovertemplate\":\"Format=Sub Shop<br>State=PA<br>Fuel diff=%{x}<br>Store Sqft=%{y}<extra></extra>\",\"legendgroup\":\"Sub Shop, PA\",\"marker\":{\"color\":\"#EF553B\",\"symbol\":\"circle\"},\"mode\":\"markers\",\"name\":\"Sub Shop, PA\",\"orientation\":\"v\",\"showlegend\":true,\"x\":[null,-2337.0,-2605.0,18608.0,-144.0,null,4847.0,4017.0,-4954.0,19504.0,4241.0,4448.0,-505.0,14099.0,5004.0,null,-6450.0,-13258.0,16660.0,-5162.0,1290.0,-11361.0,578.0,3834.0,6267.0,-1458.0,-4509.0,712.0,-7389.0,-12429.0,-2207.0,10080.0,-2835.0,-11254.0,null],\"xaxis\":\"x\",\"y\":[5748,5580,2846,3944,3648,5748,2636,5375,3172,4525,4945,4714,2080,4525,4525,2520,4525,4535,4525,5580,5376,4630,4525,5849,5580,4580,3746,3122,4576,4525,5375,5748,3831,4688,5748],\"yaxis\":\"y\",\"type\":\"scatter\"},{\"hovertemplate\":\"Format=Sub Shop<br>State=OH<br>Fuel diff=%{x}<br>Store Sqft=%{y}<extra></extra>\",\"legendgroup\":\"Sub Shop, OH\",\"marker\":{\"color\":\"#EF553B\",\"symbol\":\"diamond\"},\"mode\":\"markers\",\"name\":\"Sub Shop, OH\",\"orientation\":\"v\",\"showlegend\":true,\"x\":[-4533.0,2700.0,3713.0,-4520.0,-4894.0,3557.0,-9083.0,823.0,7507.0,4755.0,1394.0,-10412.0,-2663.0,-8743.0,2734.0,-10521.0,7687.0,-8588.0,-10005.0,6132.0],\"xaxis\":\"x\",\"y\":[5580,5580,5580,4525,4525,4365,4484,3225,4535,5580,5580,3629,4525,2800,5580,3700,5557,3746,5748,5849],\"yaxis\":\"y\",\"type\":\"scatter\"},{\"hovertemplate\":\"Format=Sub Shop<br>State=WV<br>Fuel diff=%{x}<br>Store Sqft=%{y}<extra></extra>\",\"legendgroup\":\"Sub Shop, WV\",\"marker\":{\"color\":\"#EF553B\",\"symbol\":\"square\"},\"mode\":\"markers\",\"name\":\"Sub Shop, WV\",\"orientation\":\"v\",\"showlegend\":true,\"x\":[281.0],\"xaxis\":\"x\",\"y\":[3700],\"yaxis\":\"y\",\"type\":\"scatter\"},{\"hovertemplate\":\"Format=Sub Shop<br>State=MD<br>Fuel diff=%{x}<br>Store Sqft=%{y}<extra></extra>\",\"legendgroup\":\"Sub Shop, MD\",\"marker\":{\"color\":\"#EF553B\",\"symbol\":\"cross\"},\"mode\":\"markers\",\"name\":\"Sub Shop, MD\",\"orientation\":\"v\",\"showlegend\":true,\"x\":[-1620.0],\"xaxis\":\"x\",\"y\":[2856],\"yaxis\":\"y\",\"type\":\"scatter\"},{\"hovertemplate\":\"Format=Conventional<br>State=PA<br>Fuel diff=%{x}<br>Store Sqft=%{y}<extra></extra>\",\"legendgroup\":\"Conventional, PA\",\"marker\":{\"color\":\"#00cc96\",\"symbol\":\"circle\"},\"mode\":\"markers\",\"name\":\"Conventional, PA\",\"orientation\":\"v\",\"showlegend\":true,\"x\":[-9702.0,1610.0,21898.0,6723.0,-16217.0,2233.0,4934.0,1993.0,1433.0,1108.0,-3510.0,-875.0,3023.0,-6689.0,-3183.0,-2965.0,-7585.0,3904.0],\"xaxis\":\"x\",\"y\":[744,543,1960,744,744,786,1674,744,1560,1237,649,1721,1895,1111,1111,675,1111,1895],\"yaxis\":\"y\",\"type\":\"scatter\"},{\"hovertemplate\":\"Format=Conventional<br>State=OH<br>Fuel diff=%{x}<br>Store Sqft=%{y}<extra></extra>\",\"legendgroup\":\"Conventional, OH\",\"marker\":{\"color\":\"#00cc96\",\"symbol\":\"diamond\"},\"mode\":\"markers\",\"name\":\"Conventional, OH\",\"orientation\":\"v\",\"showlegend\":true,\"x\":[5185.0,-784.0,477.0,2456.0,4126.0,-3565.0,8962.0,12293.0,-5127.0,-957.0,1734.0,-1781.0,-2132.0,-4062.0,-323.0,5933.0,2441.0,352.0,1514.0,-1465.0,8618.0,6894.0,1289.0,-6982.0,-22.0,-5775.0,-13780.0],\"xaxis\":\"x\",\"y\":[1260,1836,2379,744,1111,786,744,1111,794,1102,1836,2191,744,2360,589,1895,461,717,1620,1111,1111,1973,1111,1111,649,1111,1111],\"yaxis\":\"y\",\"type\":\"scatter\"},{\"hovertemplate\":\"Format=Conventional<br>State=IN<br>Fuel diff=%{x}<br>Store Sqft=%{y}<extra></extra>\",\"legendgroup\":\"Conventional, IN\",\"marker\":{\"color\":\"#00cc96\",\"symbol\":\"x\"},\"mode\":\"markers\",\"name\":\"Conventional, IN\",\"orientation\":\"v\",\"showlegend\":true,\"x\":[3216.0,1645.0,2536.0,3179.0,1571.0,2551.0,1311.0,-549.0,-4912.0,5115.0,1780.0,1011.0,1314.0,-4508.0,-18344.0,-11465.0,-1676.0,-13529.0,1235.0,19234.0,684.0,-901.0],\"xaxis\":\"x\",\"y\":[1800,3116,2374,1804,2500,2000,3600,3500,2416,2350,3500,3000,3182,4410,3025,3974,4312,3600,2310,2800,2332,2500],\"yaxis\":\"y\",\"type\":\"scatter\"},{\"hovertemplate\":\"Format=Conventional<br>State=MD<br>Fuel diff=%{x}<br>Store Sqft=%{y}<extra></extra>\",\"legendgroup\":\"Conventional, MD\",\"marker\":{\"color\":\"#00cc96\",\"symbol\":\"cross\"},\"mode\":\"markers\",\"name\":\"Conventional, MD\",\"orientation\":\"v\",\"showlegend\":true,\"x\":[-2439.0],\"xaxis\":\"x\",\"y\":[1615],\"yaxis\":\"y\",\"type\":\"scatter\"},{\"hovertemplate\":\"Format=Grab-n-Go<br>State=PA<br>Fuel diff=%{x}<br>Store Sqft=%{y}<extra></extra>\",\"legendgroup\":\"Grab-n-Go, PA\",\"marker\":{\"color\":\"#ab63fa\",\"symbol\":\"circle\"},\"mode\":\"markers\",\"name\":\"Grab-n-Go, PA\",\"orientation\":\"v\",\"showlegend\":true,\"x\":[9527.0,-1086.0,423.0,3160.0,3757.0,-5297.0,2514.0,-3058.0,-2593.0,2927.0,8098.0,1754.0,-2168.0,-886.0],\"xaxis\":\"x\",\"y\":[1895,3170,744,1836,1895,2386,1111,1937,1836,2266,2081,3273,1111,2528],\"yaxis\":\"y\",\"type\":\"scatter\"},{\"hovertemplate\":\"Format=Grab-n-Go<br>State=OH<br>Fuel diff=%{x}<br>Store Sqft=%{y}<extra></extra>\",\"legendgroup\":\"Grab-n-Go, OH\",\"marker\":{\"color\":\"#ab63fa\",\"symbol\":\"diamond\"},\"mode\":\"markers\",\"name\":\"Grab-n-Go, OH\",\"orientation\":\"v\",\"showlegend\":true,\"x\":[-5108.0,8159.0,7414.0,-5034.0,-3001.0,1011.0,-568.0,-2541.0,-1112.0,6189.0,1926.0,-8023.0,-9795.0,-5969.0,8418.0,-2542.0,-2985.0,4150.0,1920.0,3636.0],\"xaxis\":\"x\",\"y\":[1895,1111,1813,2000,1942,3343,1895,1960,2526,2120,2052,1836,1651,2000,1102,1930,1895,1942,2289,2367],\"yaxis\":\"y\",\"type\":\"scatter\"}],                        {\"template\":{\"data\":{\"histogram2dcontour\":[{\"type\":\"histogram2dcontour\",\"colorbar\":{\"outlinewidth\":0,\"ticks\":\"\"},\"colorscale\":[[0.0,\"#0d0887\"],[0.1111111111111111,\"#46039f\"],[0.2222222222222222,\"#7201a8\"],[0.3333333333333333,\"#9c179e\"],[0.4444444444444444,\"#bd3786\"],[0.5555555555555556,\"#d8576b\"],[0.6666666666666666,\"#ed7953\"],[0.7777777777777778,\"#fb9f3a\"],[0.8888888888888888,\"#fdca26\"],[1.0,\"#f0f921\"]]}],\"choropleth\":[{\"type\":\"choropleth\",\"colorbar\":{\"outlinewidth\":0,\"ticks\":\"\"}}],\"histogram2d\":[{\"type\":\"histogram2d\",\"colorbar\":{\"outlinewidth\":0,\"ticks\":\"\"},\"colorscale\":[[0.0,\"#0d0887\"],[0.1111111111111111,\"#46039f\"],[0.2222222222222222,\"#7201a8\"],[0.3333333333333333,\"#9c179e\"],[0.4444444444444444,\"#bd3786\"],[0.5555555555555556,\"#d8576b\"],[0.6666666666666666,\"#ed7953\"],[0.7777777777777778,\"#fb9f3a\"],[0.8888888888888888,\"#fdca26\"],[1.0,\"#f0f921\"]]}],\"heatmap\":[{\"type\":\"heatmap\",\"colorbar\":{\"outlinewidth\":0,\"ticks\":\"\"},\"colorscale\":[[0.0,\"#0d0887\"],[0.1111111111111111,\"#46039f\"],[0.2222222222222222,\"#7201a8\"],[0.3333333333333333,\"#9c179e\"],[0.4444444444444444,\"#bd3786\"],[0.5555555555555556,\"#d8576b\"],[0.6666666666666666,\"#ed7953\"],[0.7777777777777778,\"#fb9f3a\"],[0.8888888888888888,\"#fdca26\"],[1.0,\"#f0f921\"]]}],\"heatmapgl\":[{\"type\":\"heatmapgl\",\"colorbar\":{\"outlinewidth\":0,\"ticks\":\"\"},\"colorscale\":[[0.0,\"#0d0887\"],[0.1111111111111111,\"#46039f\"],[0.2222222222222222,\"#7201a8\"],[0.3333333333333333,\"#9c179e\"],[0.4444444444444444,\"#bd3786\"],[0.5555555555555556,\"#d8576b\"],[0.6666666666666666,\"#ed7953\"],[0.7777777777777778,\"#fb9f3a\"],[0.8888888888888888,\"#fdca26\"],[1.0,\"#f0f921\"]]}],\"contourcarpet\":[{\"type\":\"contourcarpet\",\"colorbar\":{\"outlinewidth\":0,\"ticks\":\"\"}}],\"contour\":[{\"type\":\"contour\",\"colorbar\":{\"outlinewidth\":0,\"ticks\":\"\"},\"colorscale\":[[0.0,\"#0d0887\"],[0.1111111111111111,\"#46039f\"],[0.2222222222222222,\"#7201a8\"],[0.3333333333333333,\"#9c179e\"],[0.4444444444444444,\"#bd3786\"],[0.5555555555555556,\"#d8576b\"],[0.6666666666666666,\"#ed7953\"],[0.7777777777777778,\"#fb9f3a\"],[0.8888888888888888,\"#fdca26\"],[1.0,\"#f0f921\"]]}],\"surface\":[{\"type\":\"surface\",\"colorbar\":{\"outlinewidth\":0,\"ticks\":\"\"},\"colorscale\":[[0.0,\"#0d0887\"],[0.1111111111111111,\"#46039f\"],[0.2222222222222222,\"#7201a8\"],[0.3333333333333333,\"#9c179e\"],[0.4444444444444444,\"#bd3786\"],[0.5555555555555556,\"#d8576b\"],[0.6666666666666666,\"#ed7953\"],[0.7777777777777778,\"#fb9f3a\"],[0.8888888888888888,\"#fdca26\"],[1.0,\"#f0f921\"]]}],\"mesh3d\":[{\"type\":\"mesh3d\",\"colorbar\":{\"outlinewidth\":0,\"ticks\":\"\"}}],\"scatter\":[{\"fillpattern\":{\"fillmode\":\"overlay\",\"size\":10,\"solidity\":0.2},\"type\":\"scatter\"}],\"parcoords\":[{\"type\":\"parcoords\",\"line\":{\"colorbar\":{\"outlinewidth\":0,\"ticks\":\"\"}}}],\"scatterpolargl\":[{\"type\":\"scatterpolargl\",\"marker\":{\"colorbar\":{\"outlinewidth\":0,\"ticks\":\"\"}}}],\"bar\":[{\"error_x\":{\"color\":\"#2a3f5f\"},\"error_y\":{\"color\":\"#2a3f5f\"},\"marker\":{\"line\":{\"color\":\"#E5ECF6\",\"width\":0.5},\"pattern\":{\"fillmode\":\"overlay\",\"size\":10,\"solidity\":0.2}},\"type\":\"bar\"}],\"scattergeo\":[{\"type\":\"scattergeo\",\"marker\":{\"colorbar\":{\"outlinewidth\":0,\"ticks\":\"\"}}}],\"scatterpolar\":[{\"type\":\"scatterpolar\",\"marker\":{\"colorbar\":{\"outlinewidth\":0,\"ticks\":\"\"}}}],\"histogram\":[{\"marker\":{\"pattern\":{\"fillmode\":\"overlay\",\"size\":10,\"solidity\":0.2}},\"type\":\"histogram\"}],\"scattergl\":[{\"type\":\"scattergl\",\"marker\":{\"colorbar\":{\"outlinewidth\":0,\"ticks\":\"\"}}}],\"scatter3d\":[{\"type\":\"scatter3d\",\"line\":{\"colorbar\":{\"outlinewidth\":0,\"ticks\":\"\"}},\"marker\":{\"colorbar\":{\"outlinewidth\":0,\"ticks\":\"\"}}}],\"scattermapbox\":[{\"type\":\"scattermapbox\",\"marker\":{\"colorbar\":{\"outlinewidth\":0,\"ticks\":\"\"}}}],\"scatterternary\":[{\"type\":\"scatterternary\",\"marker\":{\"colorbar\":{\"outlinewidth\":0,\"ticks\":\"\"}}}],\"scattercarpet\":[{\"type\":\"scattercarpet\",\"marker\":{\"colorbar\":{\"outlinewidth\":0,\"ticks\":\"\"}}}],\"carpet\":[{\"aaxis\":{\"endlinecolor\":\"#2a3f5f\",\"gridcolor\":\"white\",\"linecolor\":\"white\",\"minorgridcolor\":\"white\",\"startlinecolor\":\"#2a3f5f\"},\"baxis\":{\"endlinecolor\":\"#2a3f5f\",\"gridcolor\":\"white\",\"linecolor\":\"white\",\"minorgridcolor\":\"white\",\"startlinecolor\":\"#2a3f5f\"},\"type\":\"carpet\"}],\"table\":[{\"cells\":{\"fill\":{\"color\":\"#EBF0F8\"},\"line\":{\"color\":\"white\"}},\"header\":{\"fill\":{\"color\":\"#C8D4E3\"},\"line\":{\"color\":\"white\"}},\"type\":\"table\"}],\"barpolar\":[{\"marker\":{\"line\":{\"color\":\"#E5ECF6\",\"width\":0.5},\"pattern\":{\"fillmode\":\"overlay\",\"size\":10,\"solidity\":0.2}},\"type\":\"barpolar\"}],\"pie\":[{\"automargin\":true,\"type\":\"pie\"}]},\"layout\":{\"autotypenumbers\":\"strict\",\"colorway\":[\"#636efa\",\"#EF553B\",\"#00cc96\",\"#ab63fa\",\"#FFA15A\",\"#19d3f3\",\"#FF6692\",\"#B6E880\",\"#FF97FF\",\"#FECB52\"],\"font\":{\"color\":\"#2a3f5f\"},\"hovermode\":\"closest\",\"hoverlabel\":{\"align\":\"left\"},\"paper_bgcolor\":\"white\",\"plot_bgcolor\":\"#E5ECF6\",\"polar\":{\"bgcolor\":\"#E5ECF6\",\"angularaxis\":{\"gridcolor\":\"white\",\"linecolor\":\"white\",\"ticks\":\"\"},\"radialaxis\":{\"gridcolor\":\"white\",\"linecolor\":\"white\",\"ticks\":\"\"}},\"ternary\":{\"bgcolor\":\"#E5ECF6\",\"aaxis\":{\"gridcolor\":\"white\",\"linecolor\":\"white\",\"ticks\":\"\"},\"baxis\":{\"gridcolor\":\"white\",\"linecolor\":\"white\",\"ticks\":\"\"},\"caxis\":{\"gridcolor\":\"white\",\"linecolor\":\"white\",\"ticks\":\"\"}},\"coloraxis\":{\"colorbar\":{\"outlinewidth\":0,\"ticks\":\"\"}},\"colorscale\":{\"sequential\":[[0.0,\"#0d0887\"],[0.1111111111111111,\"#46039f\"],[0.2222222222222222,\"#7201a8\"],[0.3333333333333333,\"#9c179e\"],[0.4444444444444444,\"#bd3786\"],[0.5555555555555556,\"#d8576b\"],[0.6666666666666666,\"#ed7953\"],[0.7777777777777778,\"#fb9f3a\"],[0.8888888888888888,\"#fdca26\"],[1.0,\"#f0f921\"]],\"sequentialminus\":[[0.0,\"#0d0887\"],[0.1111111111111111,\"#46039f\"],[0.2222222222222222,\"#7201a8\"],[0.3333333333333333,\"#9c179e\"],[0.4444444444444444,\"#bd3786\"],[0.5555555555555556,\"#d8576b\"],[0.6666666666666666,\"#ed7953\"],[0.7777777777777778,\"#fb9f3a\"],[0.8888888888888888,\"#fdca26\"],[1.0,\"#f0f921\"]],\"diverging\":[[0,\"#8e0152\"],[0.1,\"#c51b7d\"],[0.2,\"#de77ae\"],[0.3,\"#f1b6da\"],[0.4,\"#fde0ef\"],[0.5,\"#f7f7f7\"],[0.6,\"#e6f5d0\"],[0.7,\"#b8e186\"],[0.8,\"#7fbc41\"],[0.9,\"#4d9221\"],[1,\"#276419\"]]},\"xaxis\":{\"gridcolor\":\"white\",\"linecolor\":\"white\",\"ticks\":\"\",\"title\":{\"standoff\":15},\"zerolinecolor\":\"white\",\"automargin\":true,\"zerolinewidth\":2},\"yaxis\":{\"gridcolor\":\"white\",\"linecolor\":\"white\",\"ticks\":\"\",\"title\":{\"standoff\":15},\"zerolinecolor\":\"white\",\"automargin\":true,\"zerolinewidth\":2},\"scene\":{\"xaxis\":{\"backgroundcolor\":\"#E5ECF6\",\"gridcolor\":\"white\",\"linecolor\":\"white\",\"showbackground\":true,\"ticks\":\"\",\"zerolinecolor\":\"white\",\"gridwidth\":2},\"yaxis\":{\"backgroundcolor\":\"#E5ECF6\",\"gridcolor\":\"white\",\"linecolor\":\"white\",\"showbackground\":true,\"ticks\":\"\",\"zerolinecolor\":\"white\",\"gridwidth\":2},\"zaxis\":{\"backgroundcolor\":\"#E5ECF6\",\"gridcolor\":\"white\",\"linecolor\":\"white\",\"showbackground\":true,\"ticks\":\"\",\"zerolinecolor\":\"white\",\"gridwidth\":2}},\"shapedefaults\":{\"line\":{\"color\":\"#2a3f5f\"}},\"annotationdefaults\":{\"arrowcolor\":\"#2a3f5f\",\"arrowhead\":0,\"arrowwidth\":1},\"geo\":{\"bgcolor\":\"white\",\"landcolor\":\"#E5ECF6\",\"subunitcolor\":\"white\",\"showland\":true,\"showlakes\":true,\"lakecolor\":\"white\"},\"title\":{\"x\":0.05},\"mapbox\":{\"style\":\"light\"}}},\"xaxis\":{\"anchor\":\"y\",\"domain\":[0.0,1.0],\"title\":{\"text\":\"Fuel diff\"}},\"yaxis\":{\"anchor\":\"x\",\"domain\":[0.0,1.0],\"title\":{\"text\":\"Store Sqft\"}},\"legend\":{\"title\":{\"text\":\"Format, State\"},\"tracegroupgap\":0},\"title\":{\"text\":\"Fuel forcast varience\"}},                        {\"responsive\": true}                    ).then(function(){\n",
       "                            \n",
       "var gd = document.getElementById('d0728c6f-96a7-4f63-b3da-4a85c56935c7');\n",
       "var x = new MutationObserver(function (mutations, observer) {{\n",
       "        var display = window.getComputedStyle(gd).display;\n",
       "        if (!display || display === 'none') {{\n",
       "            console.log([gd, 'removed!']);\n",
       "            Plotly.purge(gd);\n",
       "            observer.disconnect();\n",
       "        }}\n",
       "}});\n",
       "\n",
       "// Listen for the removal of the full notebook cells\n",
       "var notebookContainer = gd.closest('#notebook-container');\n",
       "if (notebookContainer) {{\n",
       "    x.observe(notebookContainer, {childList: true});\n",
       "}}\n",
       "\n",
       "// Listen for the clearing of the current output cell\n",
       "var outputEl = gd.closest('.output');\n",
       "if (outputEl) {{\n",
       "    x.observe(outputEl, {childList: true});\n",
       "}}\n",
       "\n",
       "                        })                };                });            </script>        </div>"
      ]
     },
     "metadata": {},
     "output_type": "display_data"
    }
   ],
   "source": [
    "fig=px.scatter(tango,x='Fuel diff',y='Store Sqft',color='Format',symbol='State',title='Fuel forcast varience')\n",
    "fig.show()"
   ]
  }
 ],
 "metadata": {
  "kernelspec": {
   "display_name": "Python 3 (ipykernel)",
   "language": "python",
   "name": "python3"
  },
  "language_info": {
   "codemirror_mode": {
    "name": "ipython",
    "version": 3
   },
   "file_extension": ".py",
   "mimetype": "text/x-python",
   "name": "python",
   "nbconvert_exporter": "python",
   "pygments_lexer": "ipython3",
   "version": "3.9.13"
  }
 },
 "nbformat": 4,
 "nbformat_minor": 5
}
